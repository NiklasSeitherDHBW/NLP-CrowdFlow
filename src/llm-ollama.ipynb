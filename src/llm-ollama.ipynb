{
 "cells": [
  {
   "cell_type": "code",
   "execution_count": 1,
   "metadata": {
    "notebookRunGroups": {
     "groupValue": "1"
    }
   },
   "outputs": [],
   "source": [
    "from utils import utils, config"
   ]
  },
  {
   "cell_type": "markdown",
   "metadata": {},
   "source": [
    "## Data Preparation"
   ]
  },
  {
   "cell_type": "code",
   "execution_count": 2,
   "metadata": {
    "notebookRunGroups": {
     "groupValue": "2"
    }
   },
   "outputs": [
    {
     "data": {
      "text/html": [
       "<div>\n",
       "<style scoped>\n",
       "    .dataframe tbody tr th:only-of-type {\n",
       "        vertical-align: middle;\n",
       "    }\n",
       "\n",
       "    .dataframe tbody tr th {\n",
       "        vertical-align: top;\n",
       "    }\n",
       "\n",
       "    .dataframe thead th {\n",
       "        text-align: right;\n",
       "    }\n",
       "</style>\n",
       "<table border=\"1\" class=\"dataframe\">\n",
       "  <thead>\n",
       "    <tr style=\"text-align: right;\">\n",
       "      <th></th>\n",
       "      <th>date</th>\n",
       "      <th>source</th>\n",
       "      <th>subject</th>\n",
       "      <th>text</th>\n",
       "      <th>title</th>\n",
       "      <th>label</th>\n",
       "      <th>polarity</th>\n",
       "      <th>subjectivity</th>\n",
       "    </tr>\n",
       "  </thead>\n",
       "  <tbody>\n",
       "    <tr>\n",
       "      <th>0</th>\n",
       "      <td>2023-02-21 00:07:00</td>\n",
       "      <td>CryptoNews</td>\n",
       "      <td>ethereum</td>\n",
       "      <td>Analysts think that the deflating Ether (ETH) ...</td>\n",
       "      <td>Ethereum's Deflation Rate Keeps Rising \\x93 He...</td>\n",
       "      <td>positive</td>\n",
       "      <td>0.06</td>\n",
       "      <td>0.50</td>\n",
       "    </tr>\n",
       "    <tr>\n",
       "      <th>1</th>\n",
       "      <td>2022-01-24 12:52:00</td>\n",
       "      <td>CoinTelegraph</td>\n",
       "      <td>bitcoin</td>\n",
       "      <td>Bitcoin price losses keep coming but coins dor...</td>\n",
       "      <td>Bitcoin dives below $33K to fill futures gap a...</td>\n",
       "      <td>negative</td>\n",
       "      <td>-0.15</td>\n",
       "      <td>0.57</td>\n",
       "    </tr>\n",
       "    <tr>\n",
       "      <th>2</th>\n",
       "      <td>2022-11-24 06:47:00</td>\n",
       "      <td>CryptoNews</td>\n",
       "      <td>bitcoin</td>\n",
       "      <td>On November 24, the leading cryptocurrency, Bi...</td>\n",
       "      <td>Bitcoin Price and Ethereum Rebound</td>\n",
       "      <td>positive</td>\n",
       "      <td>0.23</td>\n",
       "      <td>0.37</td>\n",
       "    </tr>\n",
       "    <tr>\n",
       "      <th>3</th>\n",
       "      <td>2022-07-01 17:56:00</td>\n",
       "      <td>CryptoPotato</td>\n",
       "      <td>bitcoin</td>\n",
       "      <td>The New York-based company still has ambitions...</td>\n",
       "      <td>VanEck Files Another Application With the SEC ...</td>\n",
       "      <td>positive</td>\n",
       "      <td>0.06</td>\n",
       "      <td>0.50</td>\n",
       "    </tr>\n",
       "    <tr>\n",
       "      <th>4</th>\n",
       "      <td>2022-04-19 13:15:00</td>\n",
       "      <td>CryptoPotato</td>\n",
       "      <td>altcoin</td>\n",
       "      <td>Binance's 19th quarterly burn saw 1,830,382 BN...</td>\n",
       "      <td>Binance Burns Another $740M Worth of BNB, CZ S...</td>\n",
       "      <td>positive</td>\n",
       "      <td>0.40</td>\n",
       "      <td>0.30</td>\n",
       "    </tr>\n",
       "  </tbody>\n",
       "</table>\n",
       "</div>"
      ],
      "text/plain": [
       "                  date         source   subject  \\\n",
       "0  2023-02-21 00:07:00     CryptoNews  ethereum   \n",
       "1  2022-01-24 12:52:00  CoinTelegraph   bitcoin   \n",
       "2  2022-11-24 06:47:00     CryptoNews   bitcoin   \n",
       "3  2022-07-01 17:56:00   CryptoPotato   bitcoin   \n",
       "4  2022-04-19 13:15:00   CryptoPotato   altcoin   \n",
       "\n",
       "                                                text  \\\n",
       "0  Analysts think that the deflating Ether (ETH) ...   \n",
       "1  Bitcoin price losses keep coming but coins dor...   \n",
       "2  On November 24, the leading cryptocurrency, Bi...   \n",
       "3  The New York-based company still has ambitions...   \n",
       "4  Binance's 19th quarterly burn saw 1,830,382 BN...   \n",
       "\n",
       "                                               title     label  polarity  \\\n",
       "0  Ethereum's Deflation Rate Keeps Rising \\x93 He...  positive      0.06   \n",
       "1  Bitcoin dives below $33K to fill futures gap a...  negative     -0.15   \n",
       "2                 Bitcoin Price and Ethereum Rebound  positive      0.23   \n",
       "3  VanEck Files Another Application With the SEC ...  positive      0.06   \n",
       "4  Binance Burns Another $740M Worth of BNB, CZ S...  positive      0.40   \n",
       "\n",
       "   subjectivity  \n",
       "0          0.50  \n",
       "1          0.57  \n",
       "2          0.37  \n",
       "3          0.50  \n",
       "4          0.30  "
      ]
     },
     "execution_count": 2,
     "metadata": {},
     "output_type": "execute_result"
    }
   ],
   "source": [
    "df, df_cv = utils.Utils.load_data()\n",
    "df = df.sample(frac=1).reset_index(drop=True) # shuffle dataframe\n",
    "df = df[:1500] # limit rows for testing\n",
    "df.head()"
   ]
  },
  {
   "cell_type": "code",
   "execution_count": 3,
   "metadata": {},
   "outputs": [],
   "source": [
    "ollama_model = \"llama3.1:latest\"\n",
    "ollama_pipeline = utils.OllamaPipeline(\n",
    "    df=df,\n",
    "    features=config.FEATURES,\n",
    "    target=config.TARGET,\n",
    "    ollama_model=ollama_model,\n",
    "    model_name=ollama_model,\n",
    ")"
   ]
  },
  {
   "cell_type": "code",
   "execution_count": 9,
   "metadata": {},
   "outputs": [
    {
     "name": "stderr",
     "output_type": "stream",
     "text": [
      "Analyzing sentiment with Ollama: 37it [14:11, 24.38s/it]"
     ]
    }
   ],
   "source": [
    "ollama_pipeline.evaluate()"
   ]
  }
 ],
 "metadata": {
  "kernelspec": {
   "display_name": "DHBW-NLP",
   "language": "python",
   "name": "python3"
  },
  "language_info": {
   "codemirror_mode": {
    "name": "ipython",
    "version": 3
   },
   "file_extension": ".py",
   "mimetype": "text/x-python",
   "name": "python",
   "nbconvert_exporter": "python",
   "pygments_lexer": "ipython3",
   "version": "3.12.8"
  }
 },
 "nbformat": 4,
 "nbformat_minor": 2
}
