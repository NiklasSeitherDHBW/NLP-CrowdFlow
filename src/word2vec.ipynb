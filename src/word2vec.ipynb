{
 "cells": [
  {
   "cell_type": "code",
   "execution_count": 1,
   "metadata": {},
   "outputs": [],
   "source": [
    "from sklearn.compose import ColumnTransformer\n",
    "from sklearn.svm import SVC\n",
    "from sklearn.ensemble import RandomForestClassifier\n",
    "from sklearn.pipeline import Pipeline\n",
    "\n",
    "from utils import utils, config"
   ]
  },
  {
   "cell_type": "code",
   "execution_count": 2,
   "metadata": {},
   "outputs": [],
   "source": [
    "df, df_cv = utils.Utils.load_data(drop_neutral=False)"
   ]
  },
  {
   "cell_type": "markdown",
   "metadata": {},
   "source": [
    "## Random Forest"
   ]
  },
  {
   "cell_type": "code",
   "execution_count": 3,
   "metadata": {},
   "outputs": [],
   "source": [
    "nltk_w2v_rf_1 = utils.CustomPipeline(\n",
    "    df,\n",
    "    config.FEATURES,\n",
    "    config.TARGET, \n",
    "    df_cv=df_cv,\n",
    "    steps=[\n",
    "        (\"preprocessor\", ColumnTransformer(\n",
    "            transformers=[\n",
    "                (f'nltk_{feature}', Pipeline([\n",
    "                    ('compound_splitter', utils.CompoundWordSplitter()),\n",
    "                    ('tokenizer', utils.NLTKTokenizer(extra_stop_words=False, lemmatize=False, remove_urls=False)),\n",
    "                    ('word2vec', utils.Word2VecTransformer())\n",
    "                ]), feature) for feature in config.FEATURES]\n",
    "        )),\n",
    "        (\"classifier\", RandomForestClassifier(random_state=config.RANDOM_STATE))\n",
    "    ],\n",
    "    model_name=\"nltk_w2v_rf_1\"\n",
    ")"
   ]
  },
  {
   "cell_type": "code",
   "execution_count": 4,
   "metadata": {},
   "outputs": [],
   "source": [
    "# nltk_w2v_rf_1.fit(False)\n",
    "# nltk_w2v_rf_1.evaluate(False)"
   ]
  },
  {
   "cell_type": "code",
   "execution_count": null,
   "metadata": {},
   "outputs": [],
   "source": [
    "nltk_w2v_rf_1.fit(True)\n",
    "nltk_w2v_rf_1.evaluate(True)"
   ]
  },
  {
   "cell_type": "code",
   "execution_count": 6,
   "metadata": {},
   "outputs": [],
   "source": [
    "nltk_w2v_rf_1.dump(config.MODEL_DIR)"
   ]
  },
  {
   "cell_type": "code",
   "execution_count": 7,
   "metadata": {},
   "outputs": [],
   "source": [
    "nltk_w2v_rf_2 = utils.CustomPipeline(\n",
    "    df,\n",
    "    config.FEATURES,\n",
    "    config.TARGET, \n",
    "    df_cv=df_cv,\n",
    "    steps=[\n",
    "        (\"preprocessor\", ColumnTransformer(\n",
    "            transformers=[\n",
    "                (f'nltk_{feature}', Pipeline([\n",
    "                    ('compound_splitter', utils.CompoundWordSplitter()),\n",
    "                    ('tokenizer', utils.NLTKTokenizer(extra_stop_words=True, lemmatize=False, remove_urls=True)),\n",
    "                    ('word2vec', utils.Word2VecTransformer())\n",
    "                ]), feature) for feature in config.FEATURES]\n",
    "        )),\n",
    "        (\"classifier\", RandomForestClassifier(random_state=config.RANDOM_STATE))\n",
    "    ],\n",
    "    model_name=\"nltk_w2v_rf_2\"\n",
    ")"
   ]
  },
  {
   "cell_type": "code",
   "execution_count": 8,
   "metadata": {},
   "outputs": [],
   "source": [
    "# nltk_w2v_rf_2.fit(False)\n",
    "# nltk_w2v_rf_2.evaluate(False)"
   ]
  },
  {
   "cell_type": "code",
   "execution_count": null,
   "metadata": {},
   "outputs": [],
   "source": [
    "nltk_w2v_rf_2.fit(True)\n",
    "nltk_w2v_rf_2.evaluate(True)"
   ]
  },
  {
   "cell_type": "code",
   "execution_count": 10,
   "metadata": {},
   "outputs": [],
   "source": [
    "nltk_w2v_rf_3 = utils.CustomPipeline(\n",
    "    df,\n",
    "    config.FEATURES,\n",
    "    config.TARGET, \n",
    "    df_cv=df_cv,\n",
    "    steps=[\n",
    "        (\"preprocessor\", ColumnTransformer(\n",
    "            transformers=[\n",
    "                (f'nltk_{feature}', Pipeline([\n",
    "                    ('compound_splitter', utils.CompoundWordSplitter()),\n",
    "                    ('tokenizer', utils.NLTKTokenizer(extra_stop_words=False, lemmatize=True, remove_urls=True)),\n",
    "                    ('word2vec', utils.Word2VecTransformer())\n",
    "                ]), feature) for feature in config.FEATURES]\n",
    "        )),\n",
    "        (\"classifier\", RandomForestClassifier(random_state=config.RANDOM_STATE))\n",
    "    ],\n",
    "    model_name=\"nltk_w2v_rf_3\"\n",
    ")"
   ]
  },
  {
   "cell_type": "code",
   "execution_count": 11,
   "metadata": {},
   "outputs": [],
   "source": [
    "# nltk_w2v_rf_3.fit(False)\n",
    "# nltk_w2v_rf_3.evaluate(False)"
   ]
  },
  {
   "cell_type": "code",
   "execution_count": null,
   "metadata": {},
   "outputs": [],
   "source": [
    "nltk_w2v_rf_3.fit(True)\n",
    "nltk_w2v_rf_3.evaluate(True)"
   ]
  },
  {
   "cell_type": "markdown",
   "metadata": {},
   "source": [
    "## Support Vector Machine"
   ]
  },
  {
   "cell_type": "code",
   "execution_count": null,
   "metadata": {},
   "outputs": [],
   "source": [
    "nltk_w2v_svm_1 = utils.CustomPipeline(\n",
    "    df,\n",
    "    config.FEATURES,\n",
    "    config.TARGET, \n",
    "    df_cv=df_cv,\n",
    "    steps=[\n",
    "        (\"preprocessor\", ColumnTransformer(\n",
    "            transformers=[\n",
    "                (f'nltk_{feature}', Pipeline([\n",
    "                    ('compound_splitter', utils.CompoundWordSplitter()),\n",
    "                    ('tokenizer', utils.NLTKTokenizer(extra_stop_words=False, lemmatize=False, remove_urls=False)),\n",
    "                    ('word2vec', utils.Word2VecTransformer())\n",
    "                ]), feature) for feature in config.FEATURES]\n",
    "        )),\n",
    "        (\"classifier\", SVC(random_state=config.RANDOM_STATE))\n",
    "    ],\n",
    "    model_name=\"nltk_w2v_svm_1\"\n",
    ")"
   ]
  },
  {
   "cell_type": "code",
   "execution_count": null,
   "metadata": {},
   "outputs": [],
   "source": [
    "nltk_w2v_svm_1.fit(False)\n",
    "nltk_w2v_svm_1.evaluate(False)"
   ]
  },
  {
   "cell_type": "code",
   "execution_count": null,
   "metadata": {},
   "outputs": [],
   "source": [
    "nltk_w2v_svm_1.fit(True)\n",
    "nltk_w2v_svm_1.evaluate(True)"
   ]
  },
  {
   "cell_type": "code",
   "execution_count": null,
   "metadata": {},
   "outputs": [],
   "source": [
    "nltk_w2v_svm_2 = utils.CustomPipeline(\n",
    "    df,\n",
    "    config.FEATURES,\n",
    "    config.TARGET, \n",
    "    df_cv=df_cv,\n",
    "    steps=[\n",
    "        (\"preprocessor\", ColumnTransformer(\n",
    "            transformers=[\n",
    "                (f'nltk_{feature}', Pipeline([\n",
    "                    ('compound_splitter', utils.CompoundWordSplitter()),\n",
    "                    ('tokenizer', utils.NLTKTokenizer(extra_stop_words=True, lemmatize=False, remove_urls=True)),\n",
    "                    ('word2vec', utils.Word2VecTransformer())\n",
    "                ]), feature) for feature in config.FEATURES]\n",
    "        )),\n",
    "        (\"classifier\", SVC(random_state=config.RANDOM_STATE))\n",
    "    ],\n",
    "    model_name=\"nltk_w2v_svm_2\"\n",
    ")"
   ]
  },
  {
   "cell_type": "code",
   "execution_count": null,
   "metadata": {},
   "outputs": [],
   "source": [
    "nltk_w2v_svm_2.fit(False)\n",
    "nltk_w2v_svm_2.evaluate(False)"
   ]
  },
  {
   "cell_type": "code",
   "execution_count": null,
   "metadata": {},
   "outputs": [],
   "source": [
    "nltk_w2v_svm_2.fit(True)\n",
    "nltk_w2v_svm_2.evaluate(True)"
   ]
  },
  {
   "cell_type": "code",
   "execution_count": null,
   "metadata": {},
   "outputs": [],
   "source": [
    "nltk_w2v_svm_3 = utils.CustomPipeline(\n",
    "    df,\n",
    "    config.FEATURES,\n",
    "    config.TARGET, \n",
    "    df_cv=df_cv,\n",
    "    steps=[\n",
    "        (\"preprocessor\", ColumnTransformer(\n",
    "            transformers=[\n",
    "                (f'nltk_{feature}', Pipeline([\n",
    "                    ('compound_splitter', utils.CompoundWordSplitter()),\n",
    "                    ('tokenizer', utils.NLTKTokenizer(extra_stop_words=False, lemmatize=True, remove_urls=True)),\n",
    "                    ('word2vec', utils.Word2VecTransformer())\n",
    "                ]), feature) for feature in config.FEATURES]\n",
    "        )),\n",
    "        (\"classifier\", SVC(random_state=config.RANDOM_STATE))\n",
    "    ],\n",
    "    model_name=\"nltk_w2v_svm_3\"\n",
    ")"
   ]
  },
  {
   "cell_type": "code",
   "execution_count": null,
   "metadata": {},
   "outputs": [],
   "source": [
    "nltk_w2v_svm_3.fit(False)\n",
    "nltk_w2v_svm_3.evaluate(False)"
   ]
  },
  {
   "cell_type": "code",
   "execution_count": null,
   "metadata": {},
   "outputs": [],
   "source": [
    "nltk_w2v_svm_3.fit(True)\n",
    "nltk_w2v_svm_3.evaluate(True)"
   ]
  }
 ],
 "metadata": {
  "kernelspec": {
   "display_name": "DHBW-NLP",
   "language": "python",
   "name": "python3"
  },
  "language_info": {
   "codemirror_mode": {
    "name": "ipython",
    "version": 3
   },
   "file_extension": ".py",
   "mimetype": "text/x-python",
   "name": "python",
   "nbconvert_exporter": "python",
   "pygments_lexer": "ipython3",
   "version": "3.12.8"
  }
 },
 "nbformat": 4,
 "nbformat_minor": 2
}
