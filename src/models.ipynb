{
 "cells": [
  {
   "cell_type": "code",
   "execution_count": 52,
   "metadata": {
    "notebookRunGroups": {
     "groupValue": "1"
    }
   },
   "outputs": [],
   "source": [
    "import pandas as pd\n",
    "from sklearn.compose import ColumnTransformer\n",
    "from sklearn.ensemble import RandomForestClassifier\n",
    "from sklearn.feature_extraction.text import TfidfVectorizer\n",
    "from sklearn.pipeline import Pipeline\n",
    "\n",
    "from utils import config, utils"
   ]
  },
  {
   "cell_type": "code",
   "execution_count": 53,
   "metadata": {
    "notebookRunGroups": {
     "groupValue": "2"
    }
   },
   "outputs": [],
   "source": [
    "# Define the target and features\n",
    "TARGET = \"label\"\n",
    "FEATURES = [\"text\",]"
   ]
  },
  {
   "cell_type": "code",
   "execution_count": 54,
   "metadata": {},
   "outputs": [],
   "source": [
    "df_tweets = pd.read_csv(\"../res/prepared/cryptonews.csv\")\n",
    "df_cv = pd.read_csv(\"../res/prepared/hf-twitter-financial-news.csv\")"
   ]
  },
  {
   "cell_type": "code",
   "execution_count": 55,
   "metadata": {},
   "outputs": [
    {
     "data": {
      "text/plain": [
       "['negative', 'neutral', 'positive']"
      ]
     },
     "execution_count": 55,
     "metadata": {},
     "output_type": "execute_result"
    }
   ],
   "source": [
    "config.SENTIMENTS = df_tweets[TARGET].unique().tolist()\n",
    "config.SENTIMENTS"
   ]
  },
  {
   "cell_type": "markdown",
   "metadata": {},
   "source": [
    "## Model training"
   ]
  },
  {
   "cell_type": "markdown",
   "metadata": {},
   "source": [
    "### Pretrained"
   ]
  },
  {
   "cell_type": "markdown",
   "metadata": {},
   "source": [
    "#### Ollama\n",
    "Due to poor performance and long execution times, this model will no longer be evaluated. The results can be found in the notebook located at `src/archive/llm-ollama.ipynb`"
   ]
  },
  {
   "cell_type": "code",
   "execution_count": 56,
   "metadata": {},
   "outputs": [],
   "source": [
    "ollama_model = \"llama3.1:latest\""
   ]
  },
  {
   "cell_type": "code",
   "execution_count": 57,
   "metadata": {},
   "outputs": [],
   "source": [
    "# ollama_pipeline = utils.OllamaPipeline(\n",
    "#     df=df_tweets,\n",
    "#     features=FEATURES,\n",
    "#     target=TARGET,\n",
    "#     ollama_model=ollama_model,\n",
    "#     model_name=ollama_model,\n",
    "# )"
   ]
  },
  {
   "cell_type": "code",
   "execution_count": 58,
   "metadata": {},
   "outputs": [],
   "source": [
    "# ollama_pipeline.evaluate()"
   ]
  },
  {
   "cell_type": "markdown",
   "metadata": {},
   "source": [
    "#### Huggingface"
   ]
  },
  {
   "cell_type": "code",
   "execution_count": 59,
   "metadata": {},
   "outputs": [],
   "source": [
    "# from transformers import pipeline\n",
    "# import tqdm\n",
    "\n",
    "# pipe = pipeline(\"text-classification\", model=\"finiteautomata/bertweet-base-sentiment-analysis\")"
   ]
  },
  {
   "cell_type": "code",
   "execution_count": 60,
   "metadata": {},
   "outputs": [],
   "source": [
    "# display(df_tweets[\"title\"], df_tweets[\"text\"])"
   ]
  },
  {
   "cell_type": "code",
   "execution_count": 61,
   "metadata": {},
   "outputs": [],
   "source": [
    "# y_pred = []\n",
    "\n",
    "# for idx, row in tqdm.tqdm(df_tweets.iterrows(), desc=\"Predicting sentiment\"):\n",
    "#     try:\n",
    "#         result = pipe(\n",
    "#             #{\"text\": row[\"title\"], \"text_pair\": row[\"text\"]},\n",
    "#             {\"text\": row[\"text\"]},\n",
    "#             truncation=True  \n",
    "#         )\n",
    "#         y_pred.append(result)\n",
    "#     except Exception as e:\n",
    "#         print(idx, \"|\", e, \"|\", row[\"text\"])\n",
    "#         y_pred.append({\"label\": \"N/A\"})\n",
    "    \n",
    "# df_tweets[\"y_pred\"] = y_pred"
   ]
  },
  {
   "cell_type": "code",
   "execution_count": 62,
   "metadata": {},
   "outputs": [],
   "source": [
    "# df_tweets.head()"
   ]
  },
  {
   "cell_type": "code",
   "execution_count": 63,
   "metadata": {},
   "outputs": [],
   "source": [
    "# df_tweets[\"pred_sentiment\"] = df_tweets[\"y_pred\"].apply(lambda x: x[\"label\"])\n",
    "# df_tweets[\"pred_sentiment\"] = df_tweets[\"pred_sentiment\"].replace({\"POS\": \"positive\", \"NEU\": \"neutral\", \"NEG\": \"negative\"})\n",
    "# df_tweets.head()"
   ]
  },
  {
   "cell_type": "code",
   "execution_count": 64,
   "metadata": {},
   "outputs": [],
   "source": [
    "# import matplotlib.pyplot as plt\n",
    "# from sklearn.metrics import ConfusionMatrixDisplay, confusion_matrix\n",
    "\n",
    "# cm = confusion_matrix(df_tweets[\"sentiment\"], df_tweets[\"pred_sentiment\"], labels=config.SENTIMENTS, normalize=\"true\")\n",
    "# print(cm)\n",
    "\n",
    "# disp = ConfusionMatrixDisplay(confusion_matrix=cm, display_labels=config.SENTIMENTS)\n",
    "# disp.plot(cmap=plt.cm.Blues)"
   ]
  },
  {
   "cell_type": "markdown",
   "metadata": {},
   "source": [
    "### Supervised"
   ]
  },
  {
   "cell_type": "markdown",
   "metadata": {},
   "source": [
    "#### NLTK-Randomforest"
   ]
  },
  {
   "cell_type": "code",
   "execution_count": 65,
   "metadata": {},
   "outputs": [],
   "source": [
    "nltk_rf_model = utils.CustomPipeline(\n",
    "    df_tweets,\n",
    "    FEATURES,\n",
    "    TARGET, \n",
    "    df_cv = df_cv,\n",
    "    steps=[\n",
    "        (\"preprocessor\", ColumnTransformer(\n",
    "             transformers=[\n",
    "                (f'nltk_{feature}', Pipeline([\n",
    "                ('compound_splitter', utils.CompoundWordSplitter()),\n",
    "                ('tokenizer', utils.NLTKTokenizer()),\n",
    "                ('tfidf', TfidfVectorizer(tokenizer=None, preprocessor=None))\n",
    "            ]), feature) for feature in FEATURES]\n",
    "        )),\n",
    "        (\"classifier\", RandomForestClassifier(random_state=config.RANDOM_STATE))\n",
    "    ],\n",
    "    model_name=\"nltk_rf\"\n",
    ")"
   ]
  },
  {
   "cell_type": "code",
   "execution_count": 66,
   "metadata": {},
   "outputs": [
    {
     "name": "stdout",
     "output_type": "stream",
     "text": [
      "[Pipeline] ...... (step 1 of 2) Processing preprocessor, total=   1.9s\n",
      "[Pipeline] ........ (step 2 of 2) Processing classifier, total=  41.8s\n",
      "[Pipeline] ...... (step 1 of 2) Processing preprocessor, total=   2.8s\n",
      "[Pipeline] ........ (step 2 of 2) Processing classifier, total=  55.1s\n"
     ]
    }
   ],
   "source": [
    "nltk_rf_model.fit(False)\n",
    "nltk_rf_model.fit(True)"
   ]
  },
  {
   "cell_type": "code",
   "execution_count": 67,
   "metadata": {},
   "outputs": [
    {
     "data": {
      "text/html": [
       "<div>\n",
       "<style scoped>\n",
       "    .dataframe tbody tr th:only-of-type {\n",
       "        vertical-align: middle;\n",
       "    }\n",
       "\n",
       "    .dataframe tbody tr th {\n",
       "        vertical-align: top;\n",
       "    }\n",
       "\n",
       "    .dataframe thead th {\n",
       "        text-align: right;\n",
       "    }\n",
       "</style>\n",
       "<table border=\"1\" class=\"dataframe\">\n",
       "  <thead>\n",
       "    <tr style=\"text-align: right;\">\n",
       "      <th></th>\n",
       "      <th>text</th>\n",
       "    </tr>\n",
       "  </thead>\n",
       "  <tbody>\n",
       "    <tr>\n",
       "      <th>0</th>\n",
       "      <td>$BYND - JPMorgan reels in expectations on Beyo...</td>\n",
       "    </tr>\n",
       "    <tr>\n",
       "      <th>1</th>\n",
       "      <td>$CCL $RCL - Nomura points to bookings weakness...</td>\n",
       "    </tr>\n",
       "    <tr>\n",
       "      <th>2</th>\n",
       "      <td>$CX - Cemex cut at Credit Suisse, J.P. Morgan ...</td>\n",
       "    </tr>\n",
       "    <tr>\n",
       "      <th>3</th>\n",
       "      <td>$ESS: BTIG Research cuts to Neutral https://t....</td>\n",
       "    </tr>\n",
       "    <tr>\n",
       "      <th>4</th>\n",
       "      <td>$FNKO - Funko slides after Piper Jaffray PT cu...</td>\n",
       "    </tr>\n",
       "    <tr>\n",
       "      <th>...</th>\n",
       "      <td>...</td>\n",
       "    </tr>\n",
       "    <tr>\n",
       "      <th>11926</th>\n",
       "      <td>Stocks making the biggest moves midday: TD Ame...</td>\n",
       "    </tr>\n",
       "    <tr>\n",
       "      <th>11927</th>\n",
       "      <td>Stocks making the biggest moves premarket: Fit...</td>\n",
       "    </tr>\n",
       "    <tr>\n",
       "      <th>11928</th>\n",
       "      <td>Stocks making the biggest moves premarket: Hom...</td>\n",
       "    </tr>\n",
       "    <tr>\n",
       "      <th>11929</th>\n",
       "      <td>Stocks making the biggest moves premarket: TD ...</td>\n",
       "    </tr>\n",
       "    <tr>\n",
       "      <th>11930</th>\n",
       "      <td>TCO, NNVC, GPOR and JE among midday movers</td>\n",
       "    </tr>\n",
       "  </tbody>\n",
       "</table>\n",
       "<p>11931 rows × 1 columns</p>\n",
       "</div>"
      ],
      "text/plain": [
       "                                                    text\n",
       "0      $BYND - JPMorgan reels in expectations on Beyo...\n",
       "1      $CCL $RCL - Nomura points to bookings weakness...\n",
       "2      $CX - Cemex cut at Credit Suisse, J.P. Morgan ...\n",
       "3      $ESS: BTIG Research cuts to Neutral https://t....\n",
       "4      $FNKO - Funko slides after Piper Jaffray PT cu...\n",
       "...                                                  ...\n",
       "11926  Stocks making the biggest moves midday: TD Ame...\n",
       "11927  Stocks making the biggest moves premarket: Fit...\n",
       "11928  Stocks making the biggest moves premarket: Hom...\n",
       "11929  Stocks making the biggest moves premarket: TD ...\n",
       "11930         TCO, NNVC, GPOR and JE among midday movers\n",
       "\n",
       "[11931 rows x 1 columns]"
      ]
     },
     "metadata": {},
     "output_type": "display_data"
    },
    {
     "data": {
      "text/plain": [
       "0        negative\n",
       "1        negative\n",
       "2        negative\n",
       "3        negative\n",
       "4        negative\n",
       "           ...   \n",
       "11926     neutral\n",
       "11927     neutral\n",
       "11928     neutral\n",
       "11929     neutral\n",
       "11930     neutral\n",
       "Name: label, Length: 11931, dtype: object"
      ]
     },
     "metadata": {},
     "output_type": "display_data"
    },
    {
     "data": {
      "text/plain": [
       "array(['positive', 'negative', 'negative', ..., 'neutral', 'neutral',\n",
       "       'neutral'], dtype=object)"
      ]
     },
     "metadata": {},
     "output_type": "display_data"
    },
    {
     "data": {
      "image/png": "[encoded data removed]",
      "text/plain": [
       "<Figure size 1400x600 with 4 Axes>"
      ]
     },
     "metadata": {},
     "output_type": "display_data"
    },
    {
     "name": "stdout",
     "output_type": "stream",
     "text": [
      "Classification Report for nltk_rf - balanced train data:\n",
      "              precision    recall  f1-score   support\n",
      "\n",
      "    negative       0.91      0.94      0.93      1096\n",
      "     neutral       0.92      0.98      0.95      2844\n",
      "    positive       0.97      0.88      0.92      2155\n",
      "\n",
      "    accuracy                           0.94      6095\n",
      "   macro avg       0.93      0.93      0.93      6095\n",
      "weighted avg       0.94      0.94      0.93      6095\n",
      "\n"
     ]
    }
   ],
   "source": [
    "# nltk_rf_model.evaluate(False)\n",
    "nltk_rf_model.evaluate(True)"
   ]
  },
  {
   "cell_type": "code",
   "execution_count": 68,
   "metadata": {},
   "outputs": [],
   "source": [
    "# nltk_rf_model.dump(\"../res/models\")"
   ]
  },
  {
   "cell_type": "markdown",
   "metadata": {},
   "source": [
    "#### NLTK-NGrams-RDF"
   ]
  },
  {
   "cell_type": "code",
   "execution_count": 69,
   "metadata": {},
   "outputs": [],
   "source": [
    "nltk_rf_ngram_1_3_model = utils.CustomPipeline(\n",
    "    df_tweets,\n",
    "    FEATURES,\n",
    "    TARGET, \n",
    "    df_cv = df_cv,\n",
    "    steps=[\n",
    "        (\"preprocessor\", ColumnTransformer(\n",
    "             transformers=[\n",
    "                (f'nltk_{feature}', Pipeline([\n",
    "                ('compound_splitter', utils.CompoundWordSplitter()),\n",
    "                ('tokenizer', utils.NLTKTokenizer()),\n",
    "                ('tfidf', (TfidfVectorizer(ngram_range=(1, 3)))),\n",
    "            ]), feature) for feature in FEATURES]\n",
    "        )),\n",
    "        (\"classifier\", RandomForestClassifier(random_state=config.RANDOM_STATE))\n",
    "    ],\n",
    "    model_name=\"nltk_rf_n_gram_1_3\"\n",
    ")"
   ]
  },
  {
   "cell_type": "code",
   "execution_count": 70,
   "metadata": {},
   "outputs": [
    {
     "name": "stdout",
     "output_type": "stream",
     "text": [
      "[Pipeline] ...... (step 1 of 2) Processing preprocessor, total=   3.8s\n",
      "[Pipeline] ........ (step 2 of 2) Processing classifier, total= 7.7min\n",
      "[Pipeline] ...... (step 1 of 2) Processing preprocessor, total=   7.3s\n",
      "[Pipeline] ........ (step 2 of 2) Processing classifier, total= 6.4min\n"
     ]
    }
   ],
   "source": [
    "nltk_rf_ngram_1_3_model.fit(False)\n",
    "nltk_rf_ngram_1_3_model.fit(True)"
   ]
  },
  {
   "cell_type": "code",
   "execution_count": 71,
   "metadata": {},
   "outputs": [
    {
     "data": {
      "text/html": [
       "<div>\n",
       "<style scoped>\n",
       "    .dataframe tbody tr th:only-of-type {\n",
       "        vertical-align: middle;\n",
       "    }\n",
       "\n",
       "    .dataframe tbody tr th {\n",
       "        vertical-align: top;\n",
       "    }\n",
       "\n",
       "    .dataframe thead th {\n",
       "        text-align: right;\n",
       "    }\n",
       "</style>\n",
       "<table border=\"1\" class=\"dataframe\">\n",
       "  <thead>\n",
       "    <tr style=\"text-align: right;\">\n",
       "      <th></th>\n",
       "      <th>text</th>\n",
       "    </tr>\n",
       "  </thead>\n",
       "  <tbody>\n",
       "    <tr>\n",
       "      <th>0</th>\n",
       "      <td>$BYND - JPMorgan reels in expectations on Beyo...</td>\n",
       "    </tr>\n",
       "    <tr>\n",
       "      <th>1</th>\n",
       "      <td>$CCL $RCL - Nomura points to bookings weakness...</td>\n",
       "    </tr>\n",
       "    <tr>\n",
       "      <th>2</th>\n",
       "      <td>$CX - Cemex cut at Credit Suisse, J.P. Morgan ...</td>\n",
       "    </tr>\n",
       "    <tr>\n",
       "      <th>3</th>\n",
       "      <td>$ESS: BTIG Research cuts to Neutral https://t....</td>\n",
       "    </tr>\n",
       "    <tr>\n",
       "      <th>4</th>\n",
       "      <td>$FNKO - Funko slides after Piper Jaffray PT cu...</td>\n",
       "    </tr>\n",
       "    <tr>\n",
       "      <th>...</th>\n",
       "      <td>...</td>\n",
       "    </tr>\n",
       "    <tr>\n",
       "      <th>11926</th>\n",
       "      <td>Stocks making the biggest moves midday: TD Ame...</td>\n",
       "    </tr>\n",
       "    <tr>\n",
       "      <th>11927</th>\n",
       "      <td>Stocks making the biggest moves premarket: Fit...</td>\n",
       "    </tr>\n",
       "    <tr>\n",
       "      <th>11928</th>\n",
       "      <td>Stocks making the biggest moves premarket: Hom...</td>\n",
       "    </tr>\n",
       "    <tr>\n",
       "      <th>11929</th>\n",
       "      <td>Stocks making the biggest moves premarket: TD ...</td>\n",
       "    </tr>\n",
       "    <tr>\n",
       "      <th>11930</th>\n",
       "      <td>TCO, NNVC, GPOR and JE among midday movers</td>\n",
       "    </tr>\n",
       "  </tbody>\n",
       "</table>\n",
       "<p>11931 rows × 1 columns</p>\n",
       "</div>"
      ],
      "text/plain": [
       "                                                    text\n",
       "0      $BYND - JPMorgan reels in expectations on Beyo...\n",
       "1      $CCL $RCL - Nomura points to bookings weakness...\n",
       "2      $CX - Cemex cut at Credit Suisse, J.P. Morgan ...\n",
       "3      $ESS: BTIG Research cuts to Neutral https://t....\n",
       "4      $FNKO - Funko slides after Piper Jaffray PT cu...\n",
       "...                                                  ...\n",
       "11926  Stocks making the biggest moves midday: TD Ame...\n",
       "11927  Stocks making the biggest moves premarket: Fit...\n",
       "11928  Stocks making the biggest moves premarket: Hom...\n",
       "11929  Stocks making the biggest moves premarket: TD ...\n",
       "11930         TCO, NNVC, GPOR and JE among midday movers\n",
       "\n",
       "[11931 rows x 1 columns]"
      ]
     },
     "metadata": {},
     "output_type": "display_data"
    },
    {
     "data": {
      "text/plain": [
       "0        negative\n",
       "1        negative\n",
       "2        negative\n",
       "3        negative\n",
       "4        negative\n",
       "           ...   \n",
       "11926     neutral\n",
       "11927     neutral\n",
       "11928     neutral\n",
       "11929     neutral\n",
       "11930     neutral\n",
       "Name: label, Length: 11931, dtype: object"
      ]
     },
     "metadata": {},
     "output_type": "display_data"
    },
    {
     "data": {
      "text/plain": [
       "array(['negative', 'negative', 'negative', ..., 'neutral', 'neutral',\n",
       "       'neutral'], dtype=object)"
      ]
     },
     "metadata": {},
     "output_type": "display_data"
    },
    {
     "data": {
      "image/png": "[encoded data removed]",
      "text/plain": [
       "<Figure size 1400x600 with 4 Axes>"
      ]
     },
     "metadata": {},
     "output_type": "display_data"
    },
    {
     "name": "stdout",
     "output_type": "stream",
     "text": [
      "Classification Report for nltk_rf_n_gram_1_3 - balanced train data:\n",
      "              precision    recall  f1-score   support\n",
      "\n",
      "    negative       0.93      0.93      0.93      1096\n",
      "     neutral       0.90      0.97      0.93      2844\n",
      "    positive       0.96      0.85      0.90      2155\n",
      "\n",
      "    accuracy                           0.92      6095\n",
      "   macro avg       0.93      0.92      0.92      6095\n",
      "weighted avg       0.93      0.92      0.92      6095\n",
      "\n"
     ]
    }
   ],
   "source": [
    "# nltk_rf_ngram_1_3_model.evaluate(False)\n",
    "nltk_rf_ngram_1_3_model.evaluate(True)"
   ]
  },
  {
   "cell_type": "markdown",
   "metadata": {},
   "source": [
    "#### NLTK-NGrams-SVC"
   ]
  },
  {
   "cell_type": "code",
   "execution_count": 72,
   "metadata": {
    "notebookRunGroups": {
     "groupValue": "1"
    }
   },
   "outputs": [],
   "source": [
    "from sklearn.svm import SVC\n",
    "nltk_svc_ngram_1_3_model = utils.CustomPipeline(\n",
    "    df_tweets,\n",
    "    FEATURES,\n",
    "    TARGET, \n",
    "    df_cv = df_cv,\n",
    "    steps=[\n",
    "        (\"preprocessor\", ColumnTransformer(\n",
    "             transformers=[\n",
    "                (f'nltk_{feature}', Pipeline([\n",
    "                ('compound_splitter', utils.CompoundWordSplitter()),\n",
    "                ('tokenizer', utils.NLTKTokenizer()),\n",
    "                ('tfidf', (TfidfVectorizer(ngram_range=(1, 3)))),\n",
    "            ]), feature) for feature in FEATURES]\n",
    "        )),\n",
    "        (\"classifier\", SVC(random_state=config.RANDOM_STATE))\n",
    "    ],\n",
    "    model_name=\"nltk_svc_n_gram_1_3\"\n",
    ")"
   ]
  },
  {
   "cell_type": "code",
   "execution_count": 73,
   "metadata": {
    "notebookRunGroups": {
     "groupValue": "2"
    }
   },
   "outputs": [
    {
     "name": "stdout",
     "output_type": "stream",
     "text": [
      "[Pipeline] ...... (step 1 of 2) Processing preprocessor, total=   4.0s\n",
      "[Pipeline] ........ (step 2 of 2) Processing classifier, total=12.7min\n",
      "[Pipeline] ...... (step 1 of 2) Processing preprocessor, total=   3.2s\n",
      "[Pipeline] ........ (step 2 of 2) Processing classifier, total= 6.9min\n"
     ]
    }
   ],
   "source": [
    "nltk_svc_ngram_1_3_model.fit(True)\n",
    "nltk_svc_ngram_1_3_model.fit(False)"
   ]
  },
  {
   "cell_type": "code",
   "execution_count": 74,
   "metadata": {
    "notebookRunGroups": {
     "groupValue": "2"
    }
   },
   "outputs": [
    {
     "data": {
      "text/html": [
       "<div>\n",
       "<style scoped>\n",
       "    .dataframe tbody tr th:only-of-type {\n",
       "        vertical-align: middle;\n",
       "    }\n",
       "\n",
       "    .dataframe tbody tr th {\n",
       "        vertical-align: top;\n",
       "    }\n",
       "\n",
       "    .dataframe thead th {\n",
       "        text-align: right;\n",
       "    }\n",
       "</style>\n",
       "<table border=\"1\" class=\"dataframe\">\n",
       "  <thead>\n",
       "    <tr style=\"text-align: right;\">\n",
       "      <th></th>\n",
       "      <th>text</th>\n",
       "    </tr>\n",
       "  </thead>\n",
       "  <tbody>\n",
       "    <tr>\n",
       "      <th>0</th>\n",
       "      <td>$BYND - JPMorgan reels in expectations on Beyo...</td>\n",
       "    </tr>\n",
       "    <tr>\n",
       "      <th>1</th>\n",
       "      <td>$CCL $RCL - Nomura points to bookings weakness...</td>\n",
       "    </tr>\n",
       "    <tr>\n",
       "      <th>2</th>\n",
       "      <td>$CX - Cemex cut at Credit Suisse, J.P. Morgan ...</td>\n",
       "    </tr>\n",
       "    <tr>\n",
       "      <th>3</th>\n",
       "      <td>$ESS: BTIG Research cuts to Neutral https://t....</td>\n",
       "    </tr>\n",
       "    <tr>\n",
       "      <th>4</th>\n",
       "      <td>$FNKO - Funko slides after Piper Jaffray PT cu...</td>\n",
       "    </tr>\n",
       "    <tr>\n",
       "      <th>...</th>\n",
       "      <td>...</td>\n",
       "    </tr>\n",
       "    <tr>\n",
       "      <th>11926</th>\n",
       "      <td>Stocks making the biggest moves midday: TD Ame...</td>\n",
       "    </tr>\n",
       "    <tr>\n",
       "      <th>11927</th>\n",
       "      <td>Stocks making the biggest moves premarket: Fit...</td>\n",
       "    </tr>\n",
       "    <tr>\n",
       "      <th>11928</th>\n",
       "      <td>Stocks making the biggest moves premarket: Hom...</td>\n",
       "    </tr>\n",
       "    <tr>\n",
       "      <th>11929</th>\n",
       "      <td>Stocks making the biggest moves premarket: TD ...</td>\n",
       "    </tr>\n",
       "    <tr>\n",
       "      <th>11930</th>\n",
       "      <td>TCO, NNVC, GPOR and JE among midday movers</td>\n",
       "    </tr>\n",
       "  </tbody>\n",
       "</table>\n",
       "<p>11931 rows × 1 columns</p>\n",
       "</div>"
      ],
      "text/plain": [
       "                                                    text\n",
       "0      $BYND - JPMorgan reels in expectations on Beyo...\n",
       "1      $CCL $RCL - Nomura points to bookings weakness...\n",
       "2      $CX - Cemex cut at Credit Suisse, J.P. Morgan ...\n",
       "3      $ESS: BTIG Research cuts to Neutral https://t....\n",
       "4      $FNKO - Funko slides after Piper Jaffray PT cu...\n",
       "...                                                  ...\n",
       "11926  Stocks making the biggest moves midday: TD Ame...\n",
       "11927  Stocks making the biggest moves premarket: Fit...\n",
       "11928  Stocks making the biggest moves premarket: Hom...\n",
       "11929  Stocks making the biggest moves premarket: TD ...\n",
       "11930         TCO, NNVC, GPOR and JE among midday movers\n",
       "\n",
       "[11931 rows x 1 columns]"
      ]
     },
     "metadata": {},
     "output_type": "display_data"
    },
    {
     "data": {
      "text/plain": [
       "0        negative\n",
       "1        negative\n",
       "2        negative\n",
       "3        negative\n",
       "4        negative\n",
       "           ...   \n",
       "11926     neutral\n",
       "11927     neutral\n",
       "11928     neutral\n",
       "11929     neutral\n",
       "11930     neutral\n",
       "Name: label, Length: 11931, dtype: object"
      ]
     },
     "metadata": {},
     "output_type": "display_data"
    },
    {
     "data": {
      "text/plain": [
       "array(['neutral', 'negative', 'negative', ..., 'neutral', 'neutral',\n",
       "       'neutral'], dtype=object)"
      ]
     },
     "metadata": {},
     "output_type": "display_data"
    },
    {
     "data": {
      "image/png": "[encoded data removed]",
      "text/plain": [
       "<Figure size 1400x600 with 4 Axes>"
      ]
     },
     "metadata": {},
     "output_type": "display_data"
    },
    {
     "name": "stdout",
     "output_type": "stream",
     "text": [
      "Classification Report for nltk_svc_n_gram_1_3 - balanced train data:\n",
      "              precision    recall  f1-score   support\n",
      "\n",
      "    negative       0.92      0.92      0.92      1096\n",
      "     neutral       0.92      0.95      0.94      2844\n",
      "    positive       0.93      0.89      0.91      2155\n",
      "\n",
      "    accuracy                           0.92      6095\n",
      "   macro avg       0.92      0.92      0.92      6095\n",
      "weighted avg       0.92      0.92      0.92      6095\n",
      "\n"
     ]
    }
   ],
   "source": [
    "# nltk_svc_ngram_1_3_model.evaluate(False)\n",
    "nltk_svc_ngram_1_3_model.evaluate(True)"
   ]
  },
  {
   "cell_type": "code",
   "execution_count": 75,
   "metadata": {},
   "outputs": [],
   "source": [
    "nltk_svc_ngram_1_3_model.dump(\"../res/models\")"
   ]
  }
 ],
 "metadata": {
  "kernelspec": {
   "display_name": "DHBW-NLP",
   "language": "python",
   "name": "python3"
  },
  "language_info": {
   "codemirror_mode": {
    "name": "ipython",
    "version": 3
   },
   "file_extension": ".py",
   "mimetype": "text/x-python",
   "name": "python",
   "nbconvert_exporter": "python",
   "pygments_lexer": "ipython3",
   "version": "3.12.8"
  }
 },
 "nbformat": 4,
 "nbformat_minor": 2
}
