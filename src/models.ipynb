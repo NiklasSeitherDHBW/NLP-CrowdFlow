{
 "cells": [
  {
   "cell_type": "code",
   "execution_count": 28,
   "metadata": {
    "notebookRunGroups": {
     "groupValue": "1"
    }
   },
   "outputs": [],
   "source": [
    "import pandas as pd\n",
    "from sklearn.compose import ColumnTransformer\n",
    "from sklearn.ensemble import RandomForestClassifier\n",
    "from sklearn.feature_extraction.text import TfidfVectorizer\n",
    "from sklearn.pipeline import Pipeline\n",
    "\n",
    "from utils import config, utils"
   ]
  },
  {
   "cell_type": "code",
   "execution_count": 29,
   "metadata": {
    "notebookRunGroups": {
     "groupValue": "2"
    }
   },
   "outputs": [],
   "source": [
    "# Define the target and features\n",
    "TARGET = \"sentiment\"\n",
    "FEATURES = [\"text\", \"title\"]"
   ]
  },
  {
   "cell_type": "markdown",
   "metadata": {},
   "source": [
    "## Data Preparation"
   ]
  },
  {
   "cell_type": "code",
   "execution_count": 30,
   "metadata": {
    "notebookRunGroups": {
     "groupValue": "2"
    }
   },
   "outputs": [
    {
     "data": {
      "text/html": [
       "<div>\n",
       "<style scoped>\n",
       "    .dataframe tbody tr th:only-of-type {\n",
       "        vertical-align: middle;\n",
       "    }\n",
       "\n",
       "    .dataframe tbody tr th {\n",
       "        vertical-align: top;\n",
       "    }\n",
       "\n",
       "    .dataframe thead th {\n",
       "        text-align: right;\n",
       "    }\n",
       "</style>\n",
       "<table border=\"1\" class=\"dataframe\">\n",
       "  <thead>\n",
       "    <tr style=\"text-align: right;\">\n",
       "      <th></th>\n",
       "      <th>date</th>\n",
       "      <th>sentiment</th>\n",
       "      <th>source</th>\n",
       "      <th>subject</th>\n",
       "      <th>text</th>\n",
       "      <th>title</th>\n",
       "      <th>url</th>\n",
       "    </tr>\n",
       "  </thead>\n",
       "  <tbody>\n",
       "    <tr>\n",
       "      <th>0</th>\n",
       "      <td>2023-04-05 06:52:09</td>\n",
       "      <td>{'class': 'negative', 'polarity': -0.03, 'subj...</td>\n",
       "      <td>CoinTelegraph</td>\n",
       "      <td>defi</td>\n",
       "      <td>The compensation process is expected to start ...</td>\n",
       "      <td>Allbridge to first begin repaying stuck bridge...</td>\n",
       "      <td>https://cointelegraph.com/news/allbridge-to-fi...</td>\n",
       "    </tr>\n",
       "    <tr>\n",
       "      <th>1</th>\n",
       "      <td>2023-04-05 06:19:00</td>\n",
       "      <td>{'class': 'neutral', 'polarity': 0.0, 'subject...</td>\n",
       "      <td>CryptoPotato</td>\n",
       "      <td>bitcoin</td>\n",
       "      <td>On-chain analytics revealed a sentiment shift ...</td>\n",
       "      <td>Bitcoin Hodl Patterns Indicate Cycle Shift to ...</td>\n",
       "      <td>https://cryptopotato.com/bitcoin-hodl-patterns...</td>\n",
       "    </tr>\n",
       "    <tr>\n",
       "      <th>2</th>\n",
       "      <td>2023-04-05 05:09:44</td>\n",
       "      <td>{'class': 'negative', 'polarity': -0.04, 'subj...</td>\n",
       "      <td>CoinTelegraph</td>\n",
       "      <td>bitcoin</td>\n",
       "      <td>Ether has broken the $1,900 resistance level f...</td>\n",
       "      <td>ETH hits 7-month high ahead of Shanghai and Ca...</td>\n",
       "      <td>https://cointelegraph.com/news/eth-hits-7-mont...</td>\n",
       "    </tr>\n",
       "    <tr>\n",
       "      <th>3</th>\n",
       "      <td>2023-04-05 01:09:52</td>\n",
       "      <td>{'class': 'positive', 'polarity': 0.07, 'subje...</td>\n",
       "      <td>CoinTelegraph</td>\n",
       "      <td>bitcoin</td>\n",
       "      <td>With a new quarterly production record, Marath...</td>\n",
       "      <td>Marathon Digital posts quarterly record of 2,1...</td>\n",
       "      <td>https://cointelegraph.com/news/marathon-digita...</td>\n",
       "    </tr>\n",
       "    <tr>\n",
       "      <th>4</th>\n",
       "      <td>2023-04-04 23:49:00</td>\n",
       "      <td>{'class': 'positive', 'polarity': 0.4, 'subjec...</td>\n",
       "      <td>CryptoPotato</td>\n",
       "      <td>altcoin</td>\n",
       "      <td>The stablecoin BTG Dol will supposedly become ...</td>\n",
       "      <td>Brazilian Finance Giant BTG Pactual to Issue a...</td>\n",
       "      <td>https://cryptopotato.com/brazilian-finance-gia...</td>\n",
       "    </tr>\n",
       "  </tbody>\n",
       "</table>\n",
       "</div>"
      ],
      "text/plain": [
       "                  date                                          sentiment  \\\n",
       "0  2023-04-05 06:52:09  {'class': 'negative', 'polarity': -0.03, 'subj...   \n",
       "1  2023-04-05 06:19:00  {'class': 'neutral', 'polarity': 0.0, 'subject...   \n",
       "2  2023-04-05 05:09:44  {'class': 'negative', 'polarity': -0.04, 'subj...   \n",
       "3  2023-04-05 01:09:52  {'class': 'positive', 'polarity': 0.07, 'subje...   \n",
       "4  2023-04-04 23:49:00  {'class': 'positive', 'polarity': 0.4, 'subjec...   \n",
       "\n",
       "          source  subject                                               text  \\\n",
       "0  CoinTelegraph     defi  The compensation process is expected to start ...   \n",
       "1   CryptoPotato  bitcoin  On-chain analytics revealed a sentiment shift ...   \n",
       "2  CoinTelegraph  bitcoin  Ether has broken the $1,900 resistance level f...   \n",
       "3  CoinTelegraph  bitcoin  With a new quarterly production record, Marath...   \n",
       "4   CryptoPotato  altcoin  The stablecoin BTG Dol will supposedly become ...   \n",
       "\n",
       "                                               title  \\\n",
       "0  Allbridge to first begin repaying stuck bridge...   \n",
       "1  Bitcoin Hodl Patterns Indicate Cycle Shift to ...   \n",
       "2  ETH hits 7-month high ahead of Shanghai and Ca...   \n",
       "3  Marathon Digital posts quarterly record of 2,1...   \n",
       "4  Brazilian Finance Giant BTG Pactual to Issue a...   \n",
       "\n",
       "                                                 url  \n",
       "0  https://cointelegraph.com/news/allbridge-to-fi...  \n",
       "1  https://cryptopotato.com/bitcoin-hodl-patterns...  \n",
       "2  https://cointelegraph.com/news/eth-hits-7-mont...  \n",
       "3  https://cointelegraph.com/news/marathon-digita...  \n",
       "4  https://cryptopotato.com/brazilian-finance-gia...  "
      ]
     },
     "execution_count": 30,
     "metadata": {},
     "output_type": "execute_result"
    }
   ],
   "source": [
    "data_raw = pd.read_csv(\"../res/input/cryptonews.csv\")\n",
    "df_tweets = data_raw.copy(deep=True)\n",
    "\n",
    "data_raw.head()"
   ]
  },
  {
   "cell_type": "code",
   "execution_count": 31,
   "metadata": {
    "notebookRunGroups": {
     "groupValue": "2"
    }
   },
   "outputs": [
    {
     "data": {
      "text/html": [
       "<div>\n",
       "<style scoped>\n",
       "    .dataframe tbody tr th:only-of-type {\n",
       "        vertical-align: middle;\n",
       "    }\n",
       "\n",
       "    .dataframe tbody tr th {\n",
       "        vertical-align: top;\n",
       "    }\n",
       "\n",
       "    .dataframe thead th {\n",
       "        text-align: right;\n",
       "    }\n",
       "</style>\n",
       "<table border=\"1\" class=\"dataframe\">\n",
       "  <thead>\n",
       "    <tr style=\"text-align: right;\">\n",
       "      <th></th>\n",
       "      <th>date</th>\n",
       "      <th>sentiment</th>\n",
       "      <th>source</th>\n",
       "      <th>subject</th>\n",
       "      <th>text</th>\n",
       "      <th>title</th>\n",
       "      <th>url</th>\n",
       "    </tr>\n",
       "  </thead>\n",
       "  <tbody>\n",
       "    <tr>\n",
       "      <th>count</th>\n",
       "      <td>18543</td>\n",
       "      <td>18543</td>\n",
       "      <td>18543</td>\n",
       "      <td>18543</td>\n",
       "      <td>18543</td>\n",
       "      <td>18543</td>\n",
       "      <td>18543</td>\n",
       "    </tr>\n",
       "    <tr>\n",
       "      <th>unique</th>\n",
       "      <td>18304</td>\n",
       "      <td>3196</td>\n",
       "      <td>3</td>\n",
       "      <td>6</td>\n",
       "      <td>18131</td>\n",
       "      <td>18511</td>\n",
       "      <td>18543</td>\n",
       "    </tr>\n",
       "    <tr>\n",
       "      <th>top</th>\n",
       "      <td>2022-01-14 00:00:00</td>\n",
       "      <td>{'class': 'neutral', 'polarity': 0.0, 'subject...</td>\n",
       "      <td>CoinTelegraph</td>\n",
       "      <td>bitcoin</td>\n",
       "      <td>Get your daily, bite-sized digest of cryptoass...</td>\n",
       "      <td>Is it Too Late to Buy Shiba Inu? Crypto Expert...</td>\n",
       "      <td>https://cryptonews.com/news/celo-to-be-fastest...</td>\n",
       "    </tr>\n",
       "    <tr>\n",
       "      <th>freq</th>\n",
       "      <td>26</td>\n",
       "      <td>4195</td>\n",
       "      <td>8675</td>\n",
       "      <td>6439</td>\n",
       "      <td>326</td>\n",
       "      <td>4</td>\n",
       "      <td>1</td>\n",
       "    </tr>\n",
       "  </tbody>\n",
       "</table>\n",
       "</div>"
      ],
      "text/plain": [
       "                       date  \\\n",
       "count                 18543   \n",
       "unique                18304   \n",
       "top     2022-01-14 00:00:00   \n",
       "freq                     26   \n",
       "\n",
       "                                                sentiment         source  \\\n",
       "count                                               18543          18543   \n",
       "unique                                               3196              3   \n",
       "top     {'class': 'neutral', 'polarity': 0.0, 'subject...  CoinTelegraph   \n",
       "freq                                                 4195           8675   \n",
       "\n",
       "        subject                                               text  \\\n",
       "count     18543                                              18543   \n",
       "unique        6                                              18131   \n",
       "top     bitcoin  Get your daily, bite-sized digest of cryptoass...   \n",
       "freq       6439                                                326   \n",
       "\n",
       "                                                    title  \\\n",
       "count                                               18543   \n",
       "unique                                              18511   \n",
       "top     Is it Too Late to Buy Shiba Inu? Crypto Expert...   \n",
       "freq                                                    4   \n",
       "\n",
       "                                                      url  \n",
       "count                                               18543  \n",
       "unique                                              18543  \n",
       "top     https://cryptonews.com/news/celo-to-be-fastest...  \n",
       "freq                                                    1  "
      ]
     },
     "execution_count": 31,
     "metadata": {},
     "output_type": "execute_result"
    }
   ],
   "source": [
    "df_tweets.describe()"
   ]
  },
  {
   "cell_type": "code",
   "execution_count": 32,
   "metadata": {},
   "outputs": [
    {
     "data": {
      "text/plain": [
       "date         0\n",
       "sentiment    0\n",
       "source       0\n",
       "subject      0\n",
       "text         0\n",
       "title        0\n",
       "url          0\n",
       "dtype: int64"
      ]
     },
     "execution_count": 32,
     "metadata": {},
     "output_type": "execute_result"
    }
   ],
   "source": [
    "df_tweets.isnull().sum()"
   ]
  },
  {
   "cell_type": "code",
   "execution_count": 33,
   "metadata": {
    "notebookRunGroups": {
     "groupValue": "2"
    }
   },
   "outputs": [
    {
     "data": {
      "text/html": [
       "<div>\n",
       "<style scoped>\n",
       "    .dataframe tbody tr th:only-of-type {\n",
       "        vertical-align: middle;\n",
       "    }\n",
       "\n",
       "    .dataframe tbody tr th {\n",
       "        vertical-align: top;\n",
       "    }\n",
       "\n",
       "    .dataframe thead th {\n",
       "        text-align: right;\n",
       "    }\n",
       "</style>\n",
       "<table border=\"1\" class=\"dataframe\">\n",
       "  <thead>\n",
       "    <tr style=\"text-align: right;\">\n",
       "      <th></th>\n",
       "      <th>date</th>\n",
       "      <th>source</th>\n",
       "      <th>subject</th>\n",
       "      <th>text</th>\n",
       "      <th>title</th>\n",
       "      <th>sentiment</th>\n",
       "      <th>polarity</th>\n",
       "      <th>subjectivity</th>\n",
       "    </tr>\n",
       "  </thead>\n",
       "  <tbody>\n",
       "    <tr>\n",
       "      <th>0</th>\n",
       "      <td>2023-04-05 06:52:09</td>\n",
       "      <td>CoinTelegraph</td>\n",
       "      <td>defi</td>\n",
       "      <td>The compensation process is expected to start ...</td>\n",
       "      <td>Allbridge to first begin repaying stuck bridge...</td>\n",
       "      <td>negative</td>\n",
       "      <td>-0.03</td>\n",
       "      <td>0.20</td>\n",
       "    </tr>\n",
       "    <tr>\n",
       "      <th>1</th>\n",
       "      <td>2023-04-05 06:19:00</td>\n",
       "      <td>CryptoPotato</td>\n",
       "      <td>bitcoin</td>\n",
       "      <td>On-chain analytics revealed a sentiment shift ...</td>\n",
       "      <td>Bitcoin Hodl Patterns Indicate Cycle Shift to ...</td>\n",
       "      <td>neutral</td>\n",
       "      <td>0.00</td>\n",
       "      <td>0.00</td>\n",
       "    </tr>\n",
       "    <tr>\n",
       "      <th>2</th>\n",
       "      <td>2023-04-05 05:09:44</td>\n",
       "      <td>CoinTelegraph</td>\n",
       "      <td>bitcoin</td>\n",
       "      <td>Ether has broken the $1,900 resistance level f...</td>\n",
       "      <td>ETH hits 7-month high ahead of Shanghai and Ca...</td>\n",
       "      <td>negative</td>\n",
       "      <td>-0.04</td>\n",
       "      <td>0.31</td>\n",
       "    </tr>\n",
       "    <tr>\n",
       "      <th>3</th>\n",
       "      <td>2023-04-05 01:09:52</td>\n",
       "      <td>CoinTelegraph</td>\n",
       "      <td>bitcoin</td>\n",
       "      <td>With a new quarterly production record, Marath...</td>\n",
       "      <td>Marathon Digital posts quarterly record of 2,1...</td>\n",
       "      <td>positive</td>\n",
       "      <td>0.07</td>\n",
       "      <td>0.23</td>\n",
       "    </tr>\n",
       "    <tr>\n",
       "      <th>4</th>\n",
       "      <td>2023-04-04 23:49:00</td>\n",
       "      <td>CryptoPotato</td>\n",
       "      <td>altcoin</td>\n",
       "      <td>The stablecoin BTG Dol will supposedly become ...</td>\n",
       "      <td>Brazilian Finance Giant BTG Pactual to Issue a...</td>\n",
       "      <td>positive</td>\n",
       "      <td>0.40</td>\n",
       "      <td>0.40</td>\n",
       "    </tr>\n",
       "  </tbody>\n",
       "</table>\n",
       "</div>"
      ],
      "text/plain": [
       "                 date         source  subject  \\\n",
       "0 2023-04-05 06:52:09  CoinTelegraph     defi   \n",
       "1 2023-04-05 06:19:00   CryptoPotato  bitcoin   \n",
       "2 2023-04-05 05:09:44  CoinTelegraph  bitcoin   \n",
       "3 2023-04-05 01:09:52  CoinTelegraph  bitcoin   \n",
       "4 2023-04-04 23:49:00   CryptoPotato  altcoin   \n",
       "\n",
       "                                                text  \\\n",
       "0  The compensation process is expected to start ...   \n",
       "1  On-chain analytics revealed a sentiment shift ...   \n",
       "2  Ether has broken the $1,900 resistance level f...   \n",
       "3  With a new quarterly production record, Marath...   \n",
       "4  The stablecoin BTG Dol will supposedly become ...   \n",
       "\n",
       "                                               title sentiment  polarity  \\\n",
       "0  Allbridge to first begin repaying stuck bridge...  negative     -0.03   \n",
       "1  Bitcoin Hodl Patterns Indicate Cycle Shift to ...   neutral      0.00   \n",
       "2  ETH hits 7-month high ahead of Shanghai and Ca...  negative     -0.04   \n",
       "3  Marathon Digital posts quarterly record of 2,1...  positive      0.07   \n",
       "4  Brazilian Finance Giant BTG Pactual to Issue a...  positive      0.40   \n",
       "\n",
       "   subjectivity  \n",
       "0          0.20  \n",
       "1          0.00  \n",
       "2          0.31  \n",
       "3          0.23  \n",
       "4          0.40  "
      ]
     },
     "execution_count": 33,
     "metadata": {},
     "output_type": "execute_result"
    }
   ],
   "source": [
    "# Convert sentiment column from string to dict\n",
    "df_tweets[\"sentiment\"] = df_tweets[\"sentiment\"].apply(eval)\n",
    "\n",
    "# Split dictionary in separate columns\n",
    "df_sentiment = pd.json_normalize(df_tweets[\"sentiment\"])\n",
    "df_tweets = pd.concat([df_tweets, df_sentiment], axis=1)\n",
    "\n",
    "# Convert date column to datetime\n",
    "df_tweets['date'] = pd.to_datetime(df_tweets['date'], format='mixed', errors='coerce')\n",
    "\n",
    "df_tweets = df_tweets.drop(columns=[\"sentiment\", \"url\"])\n",
    "df_tweets = df_tweets.rename(columns={\"class\": \"sentiment\"})\n",
    "df_tweets.head()"
   ]
  },
  {
   "cell_type": "markdown",
   "metadata": {},
   "source": [
    "## Model training"
   ]
  },
  {
   "cell_type": "markdown",
   "metadata": {},
   "source": [
    "### Pretrained"
   ]
  },
  {
   "cell_type": "markdown",
   "metadata": {},
   "source": [
    "#### Ollama\n",
    "Due to poor performance and long execution times, this model will no longer be evaluated. The results can be found in the notebook located at `src/archive/llm-ollama.ipynb`"
   ]
  },
  {
   "cell_type": "code",
   "execution_count": 34,
   "metadata": {},
   "outputs": [],
   "source": [
    "ollama_model = \"llama3.1:latest\""
   ]
  },
  {
   "cell_type": "code",
   "execution_count": 35,
   "metadata": {},
   "outputs": [],
   "source": [
    "# ollama_pipeline = utils.OllamaPipeline(\n",
    "#     df=df_tweets,\n",
    "#     features=FEATURES,\n",
    "#     target=TARGET,\n",
    "#     ollama_model=ollama_model,\n",
    "#     model_name=ollama_model,\n",
    "# )"
   ]
  },
  {
   "cell_type": "code",
   "execution_count": 36,
   "metadata": {},
   "outputs": [],
   "source": [
    "# ollama_pipeline.evaluate()"
   ]
  },
  {
   "cell_type": "markdown",
   "metadata": {},
   "source": [
    "#### Huggingface"
   ]
  },
  {
   "cell_type": "code",
   "execution_count": 37,
   "metadata": {},
   "outputs": [
    {
     "name": "stderr",
     "output_type": "stream",
     "text": [
      "emoji is not installed, thus not converting emoticons or emojis into text. Install emoji: pip3 install emoji==0.6.0\n",
      "Device set to use cpu\n"
     ]
    }
   ],
   "source": [
    "from transformers import pipeline\n",
    "import tqdm\n",
    "\n",
    "pipe = pipeline(\"text-classification\", model=\"finiteautomata/bertweet-base-sentiment-analysis\")"
   ]
  },
  {
   "cell_type": "code",
   "execution_count": 38,
   "metadata": {},
   "outputs": [
    {
     "data": {
      "text/plain": [
       "0        Allbridge to first begin repaying stuck bridge...\n",
       "1        Bitcoin Hodl Patterns Indicate Cycle Shift to ...\n",
       "2        ETH hits 7-month high ahead of Shanghai and Ca...\n",
       "3        Marathon Digital posts quarterly record of 2,1...\n",
       "4        Brazilian Finance Giant BTG Pactual to Issue a...\n",
       "                               ...                        \n",
       "18538    Cream Finance Suffers Another Exploit as Attac...\n",
       "18539    French Central Bank's Blockchain Bond Trial Br...\n",
       "18540    Facebook To Add 10,000 Jobs In EU For Metavers...\n",
       "18541    Tech Crackdown Hasn't Halted Chinese Firms' Bl...\n",
       "18542    Celo to Be Fastest EVM Chain by End of 2022, C...\n",
       "Name: title, Length: 18543, dtype: object"
      ]
     },
     "metadata": {},
     "output_type": "display_data"
    },
    {
     "data": {
      "text/plain": [
       "0        The compensation process is expected to start ...\n",
       "1        On-chain analytics revealed a sentiment shift ...\n",
       "2        Ether has broken the $1,900 resistance level f...\n",
       "3        With a new quarterly production record, Marath...\n",
       "4        The stablecoin BTG Dol will supposedly become ...\n",
       "                               ...                        \n",
       "18538    Cream Finance (CREAM) suffered another flash l...\n",
       "18539    Banque de France disclosed the results of its ...\n",
       "18540    Advancing its project to become \\x9caÂ\\xa0meta...\n",
       "18541    Chinese companies are still topping the blockc...\n",
       "18542    Within a little more than a year, Celo aims to...\n",
       "Name: text, Length: 18543, dtype: object"
      ]
     },
     "metadata": {},
     "output_type": "display_data"
    }
   ],
   "source": [
    "display(df_tweets[\"title\"], df_tweets[\"text\"])"
   ]
  },
  {
   "cell_type": "code",
   "execution_count": 39,
   "metadata": {},
   "outputs": [
    {
     "name": "stderr",
     "output_type": "stream",
     "text": [
      "Predicting sentiment: 10it [00:00, 21.40it/s]\n"
     ]
    }
   ],
   "source": [
    "y_pred = []\n",
    "its = len(df_tweets) // 15\n",
    "df_tweets_shortened = df_tweets[:its]\n",
    "for _, row in tqdm.tqdm(df_tweets_shortened.iterrows(), desc=\"Predicting sentiment\"):\n",
    "    result = pipe(\n",
    "        {\"text\": row[\"title\"], \"text_pair\": row[\"text\"]},\n",
    "        truncation=True  \n",
    "    )\n",
    "    y_pred.append(result)\n",
    "df_tweets_shortened[\"y_pred\"] = y_pred"
   ]
  },
  {
   "cell_type": "code",
   "execution_count": 40,
   "metadata": {},
   "outputs": [
    {
     "data": {
      "text/html": [
       "<div>\n",
       "<style scoped>\n",
       "    .dataframe tbody tr th:only-of-type {\n",
       "        vertical-align: middle;\n",
       "    }\n",
       "\n",
       "    .dataframe tbody tr th {\n",
       "        vertical-align: top;\n",
       "    }\n",
       "\n",
       "    .dataframe thead th {\n",
       "        text-align: right;\n",
       "    }\n",
       "</style>\n",
       "<table border=\"1\" class=\"dataframe\">\n",
       "  <thead>\n",
       "    <tr style=\"text-align: right;\">\n",
       "      <th></th>\n",
       "      <th>date</th>\n",
       "      <th>source</th>\n",
       "      <th>subject</th>\n",
       "      <th>text</th>\n",
       "      <th>title</th>\n",
       "      <th>sentiment</th>\n",
       "      <th>polarity</th>\n",
       "      <th>subjectivity</th>\n",
       "      <th>y_pred</th>\n",
       "    </tr>\n",
       "  </thead>\n",
       "  <tbody>\n",
       "    <tr>\n",
       "      <th>0</th>\n",
       "      <td>2023-04-05 06:52:09</td>\n",
       "      <td>CoinTelegraph</td>\n",
       "      <td>defi</td>\n",
       "      <td>The compensation process is expected to start ...</td>\n",
       "      <td>Allbridge to first begin repaying stuck bridge...</td>\n",
       "      <td>negative</td>\n",
       "      <td>-0.03</td>\n",
       "      <td>0.20</td>\n",
       "      <td>{'label': 'NEU', 'score': 0.941013753414154}</td>\n",
       "    </tr>\n",
       "    <tr>\n",
       "      <th>1</th>\n",
       "      <td>2023-04-05 06:19:00</td>\n",
       "      <td>CryptoPotato</td>\n",
       "      <td>bitcoin</td>\n",
       "      <td>On-chain analytics revealed a sentiment shift ...</td>\n",
       "      <td>Bitcoin Hodl Patterns Indicate Cycle Shift to ...</td>\n",
       "      <td>neutral</td>\n",
       "      <td>0.00</td>\n",
       "      <td>0.00</td>\n",
       "      <td>{'label': 'NEU', 'score': 0.9213043451309204}</td>\n",
       "    </tr>\n",
       "    <tr>\n",
       "      <th>2</th>\n",
       "      <td>2023-04-05 05:09:44</td>\n",
       "      <td>CoinTelegraph</td>\n",
       "      <td>bitcoin</td>\n",
       "      <td>Ether has broken the $1,900 resistance level f...</td>\n",
       "      <td>ETH hits 7-month high ahead of Shanghai and Ca...</td>\n",
       "      <td>negative</td>\n",
       "      <td>-0.04</td>\n",
       "      <td>0.31</td>\n",
       "      <td>{'label': 'POS', 'score': 0.6088979244232178}</td>\n",
       "    </tr>\n",
       "    <tr>\n",
       "      <th>3</th>\n",
       "      <td>2023-04-05 01:09:52</td>\n",
       "      <td>CoinTelegraph</td>\n",
       "      <td>bitcoin</td>\n",
       "      <td>With a new quarterly production record, Marath...</td>\n",
       "      <td>Marathon Digital posts quarterly record of 2,1...</td>\n",
       "      <td>positive</td>\n",
       "      <td>0.07</td>\n",
       "      <td>0.23</td>\n",
       "      <td>{'label': 'POS', 'score': 0.7493367195129395}</td>\n",
       "    </tr>\n",
       "    <tr>\n",
       "      <th>4</th>\n",
       "      <td>2023-04-04 23:49:00</td>\n",
       "      <td>CryptoPotato</td>\n",
       "      <td>altcoin</td>\n",
       "      <td>The stablecoin BTG Dol will supposedly become ...</td>\n",
       "      <td>Brazilian Finance Giant BTG Pactual to Issue a...</td>\n",
       "      <td>positive</td>\n",
       "      <td>0.40</td>\n",
       "      <td>0.40</td>\n",
       "      <td>{'label': 'NEU', 'score': 0.9239023327827454}</td>\n",
       "    </tr>\n",
       "  </tbody>\n",
       "</table>\n",
       "</div>"
      ],
      "text/plain": [
       "                 date         source  subject  \\\n",
       "0 2023-04-05 06:52:09  CoinTelegraph     defi   \n",
       "1 2023-04-05 06:19:00   CryptoPotato  bitcoin   \n",
       "2 2023-04-05 05:09:44  CoinTelegraph  bitcoin   \n",
       "3 2023-04-05 01:09:52  CoinTelegraph  bitcoin   \n",
       "4 2023-04-04 23:49:00   CryptoPotato  altcoin   \n",
       "\n",
       "                                                text  \\\n",
       "0  The compensation process is expected to start ...   \n",
       "1  On-chain analytics revealed a sentiment shift ...   \n",
       "2  Ether has broken the $1,900 resistance level f...   \n",
       "3  With a new quarterly production record, Marath...   \n",
       "4  The stablecoin BTG Dol will supposedly become ...   \n",
       "\n",
       "                                               title sentiment  polarity  \\\n",
       "0  Allbridge to first begin repaying stuck bridge...  negative     -0.03   \n",
       "1  Bitcoin Hodl Patterns Indicate Cycle Shift to ...   neutral      0.00   \n",
       "2  ETH hits 7-month high ahead of Shanghai and Ca...  negative     -0.04   \n",
       "3  Marathon Digital posts quarterly record of 2,1...  positive      0.07   \n",
       "4  Brazilian Finance Giant BTG Pactual to Issue a...  positive      0.40   \n",
       "\n",
       "   subjectivity                                         y_pred  \n",
       "0          0.20   {'label': 'NEU', 'score': 0.941013753414154}  \n",
       "1          0.00  {'label': 'NEU', 'score': 0.9213043451309204}  \n",
       "2          0.31  {'label': 'POS', 'score': 0.6088979244232178}  \n",
       "3          0.23  {'label': 'POS', 'score': 0.7493367195129395}  \n",
       "4          0.40  {'label': 'NEU', 'score': 0.9239023327827454}  "
      ]
     },
     "execution_count": 40,
     "metadata": {},
     "output_type": "execute_result"
    }
   ],
   "source": [
    "df_tweets_shortened.head()"
   ]
  },
  {
   "cell_type": "code",
   "execution_count": 41,
   "metadata": {},
   "outputs": [
    {
     "data": {
      "text/html": [
       "<div>\n",
       "<style scoped>\n",
       "    .dataframe tbody tr th:only-of-type {\n",
       "        vertical-align: middle;\n",
       "    }\n",
       "\n",
       "    .dataframe tbody tr th {\n",
       "        vertical-align: top;\n",
       "    }\n",
       "\n",
       "    .dataframe thead th {\n",
       "        text-align: right;\n",
       "    }\n",
       "</style>\n",
       "<table border=\"1\" class=\"dataframe\">\n",
       "  <thead>\n",
       "    <tr style=\"text-align: right;\">\n",
       "      <th></th>\n",
       "      <th>date</th>\n",
       "      <th>source</th>\n",
       "      <th>subject</th>\n",
       "      <th>text</th>\n",
       "      <th>title</th>\n",
       "      <th>sentiment</th>\n",
       "      <th>polarity</th>\n",
       "      <th>subjectivity</th>\n",
       "      <th>y_pred</th>\n",
       "      <th>pred_sentiment</th>\n",
       "    </tr>\n",
       "  </thead>\n",
       "  <tbody>\n",
       "    <tr>\n",
       "      <th>0</th>\n",
       "      <td>2023-04-05 06:52:09</td>\n",
       "      <td>CoinTelegraph</td>\n",
       "      <td>defi</td>\n",
       "      <td>The compensation process is expected to start ...</td>\n",
       "      <td>Allbridge to first begin repaying stuck bridge...</td>\n",
       "      <td>negative</td>\n",
       "      <td>-0.03</td>\n",
       "      <td>0.20</td>\n",
       "      <td>{'label': 'NEU', 'score': 0.941013753414154}</td>\n",
       "      <td>neutral</td>\n",
       "    </tr>\n",
       "    <tr>\n",
       "      <th>1</th>\n",
       "      <td>2023-04-05 06:19:00</td>\n",
       "      <td>CryptoPotato</td>\n",
       "      <td>bitcoin</td>\n",
       "      <td>On-chain analytics revealed a sentiment shift ...</td>\n",
       "      <td>Bitcoin Hodl Patterns Indicate Cycle Shift to ...</td>\n",
       "      <td>neutral</td>\n",
       "      <td>0.00</td>\n",
       "      <td>0.00</td>\n",
       "      <td>{'label': 'NEU', 'score': 0.9213043451309204}</td>\n",
       "      <td>neutral</td>\n",
       "    </tr>\n",
       "    <tr>\n",
       "      <th>2</th>\n",
       "      <td>2023-04-05 05:09:44</td>\n",
       "      <td>CoinTelegraph</td>\n",
       "      <td>bitcoin</td>\n",
       "      <td>Ether has broken the $1,900 resistance level f...</td>\n",
       "      <td>ETH hits 7-month high ahead of Shanghai and Ca...</td>\n",
       "      <td>negative</td>\n",
       "      <td>-0.04</td>\n",
       "      <td>0.31</td>\n",
       "      <td>{'label': 'POS', 'score': 0.6088979244232178}</td>\n",
       "      <td>positive</td>\n",
       "    </tr>\n",
       "    <tr>\n",
       "      <th>3</th>\n",
       "      <td>2023-04-05 01:09:52</td>\n",
       "      <td>CoinTelegraph</td>\n",
       "      <td>bitcoin</td>\n",
       "      <td>With a new quarterly production record, Marath...</td>\n",
       "      <td>Marathon Digital posts quarterly record of 2,1...</td>\n",
       "      <td>positive</td>\n",
       "      <td>0.07</td>\n",
       "      <td>0.23</td>\n",
       "      <td>{'label': 'POS', 'score': 0.7493367195129395}</td>\n",
       "      <td>positive</td>\n",
       "    </tr>\n",
       "    <tr>\n",
       "      <th>4</th>\n",
       "      <td>2023-04-04 23:49:00</td>\n",
       "      <td>CryptoPotato</td>\n",
       "      <td>altcoin</td>\n",
       "      <td>The stablecoin BTG Dol will supposedly become ...</td>\n",
       "      <td>Brazilian Finance Giant BTG Pactual to Issue a...</td>\n",
       "      <td>positive</td>\n",
       "      <td>0.40</td>\n",
       "      <td>0.40</td>\n",
       "      <td>{'label': 'NEU', 'score': 0.9239023327827454}</td>\n",
       "      <td>neutral</td>\n",
       "    </tr>\n",
       "  </tbody>\n",
       "</table>\n",
       "</div>"
      ],
      "text/plain": [
       "                 date         source  subject  \\\n",
       "0 2023-04-05 06:52:09  CoinTelegraph     defi   \n",
       "1 2023-04-05 06:19:00   CryptoPotato  bitcoin   \n",
       "2 2023-04-05 05:09:44  CoinTelegraph  bitcoin   \n",
       "3 2023-04-05 01:09:52  CoinTelegraph  bitcoin   \n",
       "4 2023-04-04 23:49:00   CryptoPotato  altcoin   \n",
       "\n",
       "                                                text  \\\n",
       "0  The compensation process is expected to start ...   \n",
       "1  On-chain analytics revealed a sentiment shift ...   \n",
       "2  Ether has broken the $1,900 resistance level f...   \n",
       "3  With a new quarterly production record, Marath...   \n",
       "4  The stablecoin BTG Dol will supposedly become ...   \n",
       "\n",
       "                                               title sentiment  polarity  \\\n",
       "0  Allbridge to first begin repaying stuck bridge...  negative     -0.03   \n",
       "1  Bitcoin Hodl Patterns Indicate Cycle Shift to ...   neutral      0.00   \n",
       "2  ETH hits 7-month high ahead of Shanghai and Ca...  negative     -0.04   \n",
       "3  Marathon Digital posts quarterly record of 2,1...  positive      0.07   \n",
       "4  Brazilian Finance Giant BTG Pactual to Issue a...  positive      0.40   \n",
       "\n",
       "   subjectivity                                         y_pred pred_sentiment  \n",
       "0          0.20   {'label': 'NEU', 'score': 0.941013753414154}        neutral  \n",
       "1          0.00  {'label': 'NEU', 'score': 0.9213043451309204}        neutral  \n",
       "2          0.31  {'label': 'POS', 'score': 0.6088979244232178}       positive  \n",
       "3          0.23  {'label': 'POS', 'score': 0.7493367195129395}       positive  \n",
       "4          0.40  {'label': 'NEU', 'score': 0.9239023327827454}        neutral  "
      ]
     },
     "execution_count": 41,
     "metadata": {},
     "output_type": "execute_result"
    }
   ],
   "source": [
    "df_tweets_shortened[\"pred_sentiment\"] = df_tweets_shortened[\"y_pred\"].apply(lambda x: x[\"label\"])\n",
    "df_tweets_shortened[\"pred_sentiment\"] = df_tweets_shortened[\"pred_sentiment\"].replace({\"POS\": \"positive\", \"NEU\": \"neutral\", \"NEG\": \"negative\"})\n",
    "df_tweets_shortened.head()"
   ]
  },
  {
   "cell_type": "code",
   "execution_count": 42,
   "metadata": {},
   "outputs": [
    {
     "name": "stdout",
     "output_type": "stream",
     "text": [
      "[[0.33333333 0.66666667 0.        ]\n",
      " [0.25       0.75       0.        ]\n",
      " [0.33333333 0.66666667 0.        ]]\n"
     ]
    },
    {
     "data": {
      "text/plain": [
       "<sklearn.metrics._plot.confusion_matrix.ConfusionMatrixDisplay at 0x20e7dfe3a10>"
      ]
     },
     "execution_count": 42,
     "metadata": {},
     "output_type": "execute_result"
    },
    {
     "data": {
      "image/png": "[encoded data removed]",
      "text/plain": [
       "<Figure size 640x480 with 2 Axes>"
      ]
     },
     "metadata": {},
     "output_type": "display_data"
    }
   ],
   "source": [
    "import matplotlib.pyplot as plt\n",
    "from sklearn.metrics import ConfusionMatrixDisplay, confusion_matrix\n",
    "\n",
    "cm = confusion_matrix(df_tweets_shortened[\"sentiment\"], df_tweets_shortened[\"pred_sentiment\"], labels=config.SENTIMENTS, normalize=\"true\")\n",
    "print(cm)\n",
    "\n",
    "disp = ConfusionMatrixDisplay(confusion_matrix=cm, display_labels=config.SENTIMENTS)\n",
    "disp.plot(cmap=plt.cm.Blues)"
   ]
  },
  {
   "cell_type": "markdown",
   "metadata": {},
   "source": [
    "### Supervised"
   ]
  },
  {
   "cell_type": "markdown",
   "metadata": {},
   "source": [
    "#### NLTK-Randomforest"
   ]
  },
  {
   "cell_type": "code",
   "execution_count": 43,
   "metadata": {},
   "outputs": [],
   "source": [
    "nltk_rf_model = utils.CustomPipeline(\n",
    "    df_tweets,\n",
    "    FEATURES,\n",
    "    TARGET, \n",
    "    steps=[\n",
    "        (\"preprocessor\", ColumnTransformer(\n",
    "             transformers=[\n",
    "                (f'nltk_{feature}', Pipeline([\n",
    "                ('compound_splitter', utils.CompoundWordSplitter()),\n",
    "                ('tokenizer', utils.NLTKTokenizer()),\n",
    "                ('tfidf', TfidfVectorizer())\n",
    "            ]), feature) for feature in FEATURES]\n",
    "        )),\n",
    "        (\"classifier\", RandomForestClassifier(random_state=config.RANDOM_STATE))\n",
    "    ],\n",
    "    model_name=\"nltk_rf\"\n",
    ")"
   ]
  },
  {
   "cell_type": "code",
   "execution_count": 44,
   "metadata": {},
   "outputs": [
    {
     "name": "stdout",
     "output_type": "stream",
     "text": [
      "[Pipeline] ...... (step 1 of 2) Processing preprocessor, total=   0.0s\n",
      "[Pipeline] ........ (step 2 of 2) Processing classifier, total=   0.1s\n",
      "[Pipeline] ...... (step 1 of 2) Processing preprocessor, total=   0.0s\n",
      "[Pipeline] ........ (step 2 of 2) Processing classifier, total=   0.1s\n"
     ]
    }
   ],
   "source": [
    "nltk_rf_model.fit(False)\n",
    "nltk_rf_model.fit(True)"
   ]
  },
  {
   "cell_type": "code",
   "execution_count": 45,
   "metadata": {},
   "outputs": [
    {
     "name": "stdout",
     "output_type": "stream",
     "text": [
      "Classification Report for nltk_rf_unbalanced model_unbalanced test data:\n",
      "              precision    recall  f1-score   support\n",
      "\n",
      "    positive       0.00      0.00      0.00         0\n",
      "     neutral       1.00      1.00      1.00         1\n",
      "    negative       0.00      0.00      0.00         1\n",
      "\n",
      "    accuracy                           0.50         2\n",
      "   macro avg       0.33      0.33      0.33         2\n",
      "weighted avg       0.50      0.50      0.50         2\n",
      "\n",
      "Confusion Matrix for nltk_rf_unbalanced model_unbalanced test data:\n",
      "[[0. 0. 0.]\n",
      " [0. 1. 0.]\n",
      " [1. 0. 0.]]\n"
     ]
    },
    {
     "name": "stderr",
     "output_type": "stream",
     "text": [
      "d:\\NLP-CrowdFlow\\.venv\\Lib\\site-packages\\sklearn\\metrics\\_classification.py:1565: UndefinedMetricWarning: Precision is ill-defined and being set to 0.0 in labels with no predicted samples. Use `zero_division` parameter to control this behavior.\n",
      "  _warn_prf(average, modifier, f\"{metric.capitalize()} is\", len(result))\n",
      "d:\\NLP-CrowdFlow\\.venv\\Lib\\site-packages\\sklearn\\metrics\\_classification.py:1565: UndefinedMetricWarning: Recall is ill-defined and being set to 0.0 in labels with no true samples. Use `zero_division` parameter to control this behavior.\n",
      "  _warn_prf(average, modifier, f\"{metric.capitalize()} is\", len(result))\n",
      "d:\\NLP-CrowdFlow\\.venv\\Lib\\site-packages\\sklearn\\metrics\\_classification.py:1565: UndefinedMetricWarning: Precision is ill-defined and being set to 0.0 in labels with no predicted samples. Use `zero_division` parameter to control this behavior.\n",
      "  _warn_prf(average, modifier, f\"{metric.capitalize()} is\", len(result))\n",
      "d:\\NLP-CrowdFlow\\.venv\\Lib\\site-packages\\sklearn\\metrics\\_classification.py:1565: UndefinedMetricWarning: Recall is ill-defined and being set to 0.0 in labels with no true samples. Use `zero_division` parameter to control this behavior.\n",
      "  _warn_prf(average, modifier, f\"{metric.capitalize()} is\", len(result))\n",
      "d:\\NLP-CrowdFlow\\.venv\\Lib\\site-packages\\sklearn\\metrics\\_classification.py:1565: UndefinedMetricWarning: Precision is ill-defined and being set to 0.0 in labels with no predicted samples. Use `zero_division` parameter to control this behavior.\n",
      "  _warn_prf(average, modifier, f\"{metric.capitalize()} is\", len(result))\n",
      "d:\\NLP-CrowdFlow\\.venv\\Lib\\site-packages\\sklearn\\metrics\\_classification.py:1565: UndefinedMetricWarning: Recall is ill-defined and being set to 0.0 in labels with no true samples. Use `zero_division` parameter to control this behavior.\n",
      "  _warn_prf(average, modifier, f\"{metric.capitalize()} is\", len(result))\n"
     ]
    },
    {
     "data": {
      "image/png": "[encoded data removed]",
      "text/plain": [
       "<Figure size 640x480 with 2 Axes>"
      ]
     },
     "metadata": {},
     "output_type": "display_data"
    },
    {
     "name": "stdout",
     "output_type": "stream",
     "text": [
      "Classification Report for nltk_rf_balanced model_balanced test data:\n",
      "              precision    recall  f1-score   support\n",
      "\n",
      "    positive       1.00      0.50      0.67         2\n",
      "     neutral       0.50      1.00      0.67         1\n",
      "    negative       0.00      0.00      0.00         0\n",
      "\n",
      "    accuracy                           0.67         3\n",
      "   macro avg       0.50      0.50      0.44         3\n",
      "weighted avg       0.83      0.67      0.67         3\n",
      "\n",
      "Confusion Matrix for nltk_rf_balanced model_balanced test data:\n",
      "[[0.5 0.5 0. ]\n",
      " [0.  1.  0. ]\n",
      " [0.  0.  0. ]]\n"
     ]
    },
    {
     "name": "stderr",
     "output_type": "stream",
     "text": [
      "d:\\NLP-CrowdFlow\\.venv\\Lib\\site-packages\\sklearn\\metrics\\_classification.py:1565: UndefinedMetricWarning: Precision is ill-defined and being set to 0.0 in labels with no predicted samples. Use `zero_division` parameter to control this behavior.\n",
      "  _warn_prf(average, modifier, f\"{metric.capitalize()} is\", len(result))\n",
      "d:\\NLP-CrowdFlow\\.venv\\Lib\\site-packages\\sklearn\\metrics\\_classification.py:1565: UndefinedMetricWarning: Recall is ill-defined and being set to 0.0 in labels with no true samples. Use `zero_division` parameter to control this behavior.\n",
      "  _warn_prf(average, modifier, f\"{metric.capitalize()} is\", len(result))\n",
      "d:\\NLP-CrowdFlow\\.venv\\Lib\\site-packages\\sklearn\\metrics\\_classification.py:1565: UndefinedMetricWarning: F-score is ill-defined and being set to 0.0 in labels with no true nor predicted samples. Use `zero_division` parameter to control this behavior.\n",
      "  _warn_prf(average, modifier, f\"{metric.capitalize()} is\", len(result))\n",
      "d:\\NLP-CrowdFlow\\.venv\\Lib\\site-packages\\sklearn\\metrics\\_classification.py:1565: UndefinedMetricWarning: Precision is ill-defined and being set to 0.0 in labels with no predicted samples. Use `zero_division` parameter to control this behavior.\n",
      "  _warn_prf(average, modifier, f\"{metric.capitalize()} is\", len(result))\n",
      "d:\\NLP-CrowdFlow\\.venv\\Lib\\site-packages\\sklearn\\metrics\\_classification.py:1565: UndefinedMetricWarning: Recall is ill-defined and being set to 0.0 in labels with no true samples. Use `zero_division` parameter to control this behavior.\n",
      "  _warn_prf(average, modifier, f\"{metric.capitalize()} is\", len(result))\n",
      "d:\\NLP-CrowdFlow\\.venv\\Lib\\site-packages\\sklearn\\metrics\\_classification.py:1565: UndefinedMetricWarning: F-score is ill-defined and being set to 0.0 in labels with no true nor predicted samples. Use `zero_division` parameter to control this behavior.\n",
      "  _warn_prf(average, modifier, f\"{metric.capitalize()} is\", len(result))\n",
      "d:\\NLP-CrowdFlow\\.venv\\Lib\\site-packages\\sklearn\\metrics\\_classification.py:1565: UndefinedMetricWarning: Precision is ill-defined and being set to 0.0 in labels with no predicted samples. Use `zero_division` parameter to control this behavior.\n",
      "  _warn_prf(average, modifier, f\"{metric.capitalize()} is\", len(result))\n",
      "d:\\NLP-CrowdFlow\\.venv\\Lib\\site-packages\\sklearn\\metrics\\_classification.py:1565: UndefinedMetricWarning: Recall is ill-defined and being set to 0.0 in labels with no true samples. Use `zero_division` parameter to control this behavior.\n",
      "  _warn_prf(average, modifier, f\"{metric.capitalize()} is\", len(result))\n",
      "d:\\NLP-CrowdFlow\\.venv\\Lib\\site-packages\\sklearn\\metrics\\_classification.py:1565: UndefinedMetricWarning: F-score is ill-defined and being set to 0.0 in labels with no true nor predicted samples. Use `zero_division` parameter to control this behavior.\n",
      "  _warn_prf(average, modifier, f\"{metric.capitalize()} is\", len(result))\n"
     ]
    },
    {
     "data": {
      "image/png": "[encoded data removed]",
      "text/plain": [
       "<Figure size 640x480 with 2 Axes>"
      ]
     },
     "metadata": {},
     "output_type": "display_data"
    },
    {
     "name": "stdout",
     "output_type": "stream",
     "text": [
      "Classification Report for nltk_rf_balanced model_unbalanced test data:\n",
      "              precision    recall  f1-score   support\n",
      "\n",
      "    positive       0.00      0.00      0.00         0\n",
      "     neutral       1.00      1.00      1.00         1\n",
      "    negative       1.00      1.00      1.00         1\n",
      "\n",
      "    accuracy                           1.00         2\n",
      "   macro avg       0.67      0.67      0.67         2\n",
      "weighted avg       1.00      1.00      1.00         2\n",
      "\n",
      "Confusion Matrix for nltk_rf_balanced model_unbalanced test data:\n",
      "[[0. 0. 0.]\n",
      " [0. 1. 0.]\n",
      " [0. 0. 1.]]\n"
     ]
    },
    {
     "name": "stderr",
     "output_type": "stream",
     "text": [
      "d:\\NLP-CrowdFlow\\.venv\\Lib\\site-packages\\sklearn\\metrics\\_classification.py:1565: UndefinedMetricWarning: Precision is ill-defined and being set to 0.0 in labels with no predicted samples. Use `zero_division` parameter to control this behavior.\n",
      "  _warn_prf(average, modifier, f\"{metric.capitalize()} is\", len(result))\n",
      "d:\\NLP-CrowdFlow\\.venv\\Lib\\site-packages\\sklearn\\metrics\\_classification.py:1565: UndefinedMetricWarning: Recall is ill-defined and being set to 0.0 in labels with no true samples. Use `zero_division` parameter to control this behavior.\n",
      "  _warn_prf(average, modifier, f\"{metric.capitalize()} is\", len(result))\n",
      "d:\\NLP-CrowdFlow\\.venv\\Lib\\site-packages\\sklearn\\metrics\\_classification.py:1565: UndefinedMetricWarning: F-score is ill-defined and being set to 0.0 in labels with no true nor predicted samples. Use `zero_division` parameter to control this behavior.\n",
      "  _warn_prf(average, modifier, f\"{metric.capitalize()} is\", len(result))\n",
      "d:\\NLP-CrowdFlow\\.venv\\Lib\\site-packages\\sklearn\\metrics\\_classification.py:1565: UndefinedMetricWarning: Precision is ill-defined and being set to 0.0 in labels with no predicted samples. Use `zero_division` parameter to control this behavior.\n",
      "  _warn_prf(average, modifier, f\"{metric.capitalize()} is\", len(result))\n",
      "d:\\NLP-CrowdFlow\\.venv\\Lib\\site-packages\\sklearn\\metrics\\_classification.py:1565: UndefinedMetricWarning: Recall is ill-defined and being set to 0.0 in labels with no true samples. Use `zero_division` parameter to control this behavior.\n",
      "  _warn_prf(average, modifier, f\"{metric.capitalize()} is\", len(result))\n",
      "d:\\NLP-CrowdFlow\\.venv\\Lib\\site-packages\\sklearn\\metrics\\_classification.py:1565: UndefinedMetricWarning: F-score is ill-defined and being set to 0.0 in labels with no true nor predicted samples. Use `zero_division` parameter to control this behavior.\n",
      "  _warn_prf(average, modifier, f\"{metric.capitalize()} is\", len(result))\n",
      "d:\\NLP-CrowdFlow\\.venv\\Lib\\site-packages\\sklearn\\metrics\\_classification.py:1565: UndefinedMetricWarning: Precision is ill-defined and being set to 0.0 in labels with no predicted samples. Use `zero_division` parameter to control this behavior.\n",
      "  _warn_prf(average, modifier, f\"{metric.capitalize()} is\", len(result))\n",
      "d:\\NLP-CrowdFlow\\.venv\\Lib\\site-packages\\sklearn\\metrics\\_classification.py:1565: UndefinedMetricWarning: Recall is ill-defined and being set to 0.0 in labels with no true samples. Use `zero_division` parameter to control this behavior.\n",
      "  _warn_prf(average, modifier, f\"{metric.capitalize()} is\", len(result))\n",
      "d:\\NLP-CrowdFlow\\.venv\\Lib\\site-packages\\sklearn\\metrics\\_classification.py:1565: UndefinedMetricWarning: F-score is ill-defined and being set to 0.0 in labels with no true nor predicted samples. Use `zero_division` parameter to control this behavior.\n",
      "  _warn_prf(average, modifier, f\"{metric.capitalize()} is\", len(result))\n"
     ]
    },
    {
     "data": {
      "image/png": "[encoded data removed]",
      "text/plain": [
       "<Figure size 640x480 with 2 Axes>"
      ]
     },
     "metadata": {},
     "output_type": "display_data"
    }
   ],
   "source": [
    "nltk_rf_model.evaluate(False, False)\n",
    "nltk_rf_model.evaluate(True, True)\n",
    "nltk_rf_model.evaluate(True, False)"
   ]
  },
  {
   "cell_type": "code",
   "execution_count": 46,
   "metadata": {},
   "outputs": [],
   "source": [
    "nltk_rf_model.dump(\"../res/models\")"
   ]
  },
  {
   "cell_type": "markdown",
   "metadata": {},
   "source": [
    "#### NLTK-NGrams-RandomForest"
   ]
  },
  {
   "cell_type": "code",
   "execution_count": 47,
   "metadata": {},
   "outputs": [],
   "source": [
    "nltk_rf_ngram_1_3_model = utils.CustomPipeline(\n",
    "    df_tweets,\n",
    "    FEATURES,\n",
    "    TARGET, \n",
    "    steps=[\n",
    "        (\"preprocessor\", ColumnTransformer(\n",
    "             transformers=[\n",
    "                (f'nltk_{feature}', Pipeline([\n",
    "                ('compound_splitter', utils.CompoundWordSplitter()),\n",
    "                ('tokenizer', utils.NLTKTokenizer()),\n",
    "                ('tfidf', (TfidfVectorizer(ngram_range=(1, 3)))),\n",
    "            ]), feature) for feature in FEATURES]\n",
    "        )),\n",
    "        (\"classifier\", RandomForestClassifier(random_state=config.RANDOM_STATE))\n",
    "    ],\n",
    "    model_name=\"nltk_rf_n_gram_1_3\"\n",
    ")"
   ]
  },
  {
   "cell_type": "code",
   "execution_count": 48,
   "metadata": {},
   "outputs": [
    {
     "name": "stdout",
     "output_type": "stream",
     "text": [
      "[Pipeline] ...... (step 1 of 2) Processing preprocessor, total=   0.0s\n",
      "[Pipeline] ........ (step 2 of 2) Processing classifier, total=   0.1s\n",
      "[Pipeline] ...... (step 1 of 2) Processing preprocessor, total=   0.0s\n",
      "[Pipeline] ........ (step 2 of 2) Processing classifier, total=   0.1s\n"
     ]
    }
   ],
   "source": [
    "nltk_rf_ngram_1_3_model.fit(True)\n",
    "nltk_rf_ngram_1_3_model.fit(False)"
   ]
  },
  {
   "cell_type": "code",
   "execution_count": 49,
   "metadata": {},
   "outputs": [
    {
     "name": "stdout",
     "output_type": "stream",
     "text": [
      "Classification Report for nltk_rf_n_gram_1_3_unbalanced model_unbalanced test data:\n",
      "              precision    recall  f1-score   support\n",
      "\n",
      "    positive       0.00      0.00      0.00         0\n",
      "     neutral       0.50      1.00      0.67         1\n",
      "    negative       0.00      0.00      0.00         1\n",
      "\n",
      "    accuracy                           0.50         2\n",
      "   macro avg       0.17      0.33      0.22         2\n",
      "weighted avg       0.25      0.50      0.33         2\n",
      "\n",
      "Confusion Matrix for nltk_rf_n_gram_1_3_unbalanced model_unbalanced test data:\n",
      "[[0. 0. 0.]\n",
      " [0. 1. 0.]\n",
      " [0. 1. 0.]]\n"
     ]
    },
    {
     "name": "stderr",
     "output_type": "stream",
     "text": [
      "d:\\NLP-CrowdFlow\\.venv\\Lib\\site-packages\\sklearn\\metrics\\_classification.py:1565: UndefinedMetricWarning: Precision is ill-defined and being set to 0.0 in labels with no predicted samples. Use `zero_division` parameter to control this behavior.\n",
      "  _warn_prf(average, modifier, f\"{metric.capitalize()} is\", len(result))\n",
      "d:\\NLP-CrowdFlow\\.venv\\Lib\\site-packages\\sklearn\\metrics\\_classification.py:1565: UndefinedMetricWarning: Recall is ill-defined and being set to 0.0 in labels with no true samples. Use `zero_division` parameter to control this behavior.\n",
      "  _warn_prf(average, modifier, f\"{metric.capitalize()} is\", len(result))\n",
      "d:\\NLP-CrowdFlow\\.venv\\Lib\\site-packages\\sklearn\\metrics\\_classification.py:1565: UndefinedMetricWarning: F-score is ill-defined and being set to 0.0 in labels with no true nor predicted samples. Use `zero_division` parameter to control this behavior.\n",
      "  _warn_prf(average, modifier, f\"{metric.capitalize()} is\", len(result))\n",
      "d:\\NLP-CrowdFlow\\.venv\\Lib\\site-packages\\sklearn\\metrics\\_classification.py:1565: UndefinedMetricWarning: Precision is ill-defined and being set to 0.0 in labels with no predicted samples. Use `zero_division` parameter to control this behavior.\n",
      "  _warn_prf(average, modifier, f\"{metric.capitalize()} is\", len(result))\n",
      "d:\\NLP-CrowdFlow\\.venv\\Lib\\site-packages\\sklearn\\metrics\\_classification.py:1565: UndefinedMetricWarning: Recall is ill-defined and being set to 0.0 in labels with no true samples. Use `zero_division` parameter to control this behavior.\n",
      "  _warn_prf(average, modifier, f\"{metric.capitalize()} is\", len(result))\n",
      "d:\\NLP-CrowdFlow\\.venv\\Lib\\site-packages\\sklearn\\metrics\\_classification.py:1565: UndefinedMetricWarning: F-score is ill-defined and being set to 0.0 in labels with no true nor predicted samples. Use `zero_division` parameter to control this behavior.\n",
      "  _warn_prf(average, modifier, f\"{metric.capitalize()} is\", len(result))\n",
      "d:\\NLP-CrowdFlow\\.venv\\Lib\\site-packages\\sklearn\\metrics\\_classification.py:1565: UndefinedMetricWarning: Precision is ill-defined and being set to 0.0 in labels with no predicted samples. Use `zero_division` parameter to control this behavior.\n",
      "  _warn_prf(average, modifier, f\"{metric.capitalize()} is\", len(result))\n",
      "d:\\NLP-CrowdFlow\\.venv\\Lib\\site-packages\\sklearn\\metrics\\_classification.py:1565: UndefinedMetricWarning: Recall is ill-defined and being set to 0.0 in labels with no true samples. Use `zero_division` parameter to control this behavior.\n",
      "  _warn_prf(average, modifier, f\"{metric.capitalize()} is\", len(result))\n",
      "d:\\NLP-CrowdFlow\\.venv\\Lib\\site-packages\\sklearn\\metrics\\_classification.py:1565: UndefinedMetricWarning: F-score is ill-defined and being set to 0.0 in labels with no true nor predicted samples. Use `zero_division` parameter to control this behavior.\n",
      "  _warn_prf(average, modifier, f\"{metric.capitalize()} is\", len(result))\n"
     ]
    },
    {
     "data": {
      "image/png": "[encoded data removed]",
      "text/plain": [
       "<Figure size 640x480 with 2 Axes>"
      ]
     },
     "metadata": {},
     "output_type": "display_data"
    },
    {
     "name": "stdout",
     "output_type": "stream",
     "text": [
      "Classification Report for nltk_rf_n_gram_1_3_balanced model_balanced test data:\n",
      "              precision    recall  f1-score   support\n",
      "\n",
      "    positive       1.00      0.50      0.67         2\n",
      "     neutral       0.50      1.00      0.67         1\n",
      "    negative       0.00      0.00      0.00         0\n",
      "\n",
      "    accuracy                           0.67         3\n",
      "   macro avg       0.50      0.50      0.44         3\n",
      "weighted avg       0.83      0.67      0.67         3\n",
      "\n",
      "Confusion Matrix for nltk_rf_n_gram_1_3_balanced model_balanced test data:\n",
      "[[0.5 0.5 0. ]\n",
      " [0.  1.  0. ]\n",
      " [0.  0.  0. ]]\n"
     ]
    },
    {
     "name": "stderr",
     "output_type": "stream",
     "text": [
      "d:\\NLP-CrowdFlow\\.venv\\Lib\\site-packages\\sklearn\\metrics\\_classification.py:1565: UndefinedMetricWarning: Precision is ill-defined and being set to 0.0 in labels with no predicted samples. Use `zero_division` parameter to control this behavior.\n",
      "  _warn_prf(average, modifier, f\"{metric.capitalize()} is\", len(result))\n",
      "d:\\NLP-CrowdFlow\\.venv\\Lib\\site-packages\\sklearn\\metrics\\_classification.py:1565: UndefinedMetricWarning: Recall is ill-defined and being set to 0.0 in labels with no true samples. Use `zero_division` parameter to control this behavior.\n",
      "  _warn_prf(average, modifier, f\"{metric.capitalize()} is\", len(result))\n",
      "d:\\NLP-CrowdFlow\\.venv\\Lib\\site-packages\\sklearn\\metrics\\_classification.py:1565: UndefinedMetricWarning: F-score is ill-defined and being set to 0.0 in labels with no true nor predicted samples. Use `zero_division` parameter to control this behavior.\n",
      "  _warn_prf(average, modifier, f\"{metric.capitalize()} is\", len(result))\n",
      "d:\\NLP-CrowdFlow\\.venv\\Lib\\site-packages\\sklearn\\metrics\\_classification.py:1565: UndefinedMetricWarning: Precision is ill-defined and being set to 0.0 in labels with no predicted samples. Use `zero_division` parameter to control this behavior.\n",
      "  _warn_prf(average, modifier, f\"{metric.capitalize()} is\", len(result))\n",
      "d:\\NLP-CrowdFlow\\.venv\\Lib\\site-packages\\sklearn\\metrics\\_classification.py:1565: UndefinedMetricWarning: Recall is ill-defined and being set to 0.0 in labels with no true samples. Use `zero_division` parameter to control this behavior.\n",
      "  _warn_prf(average, modifier, f\"{metric.capitalize()} is\", len(result))\n",
      "d:\\NLP-CrowdFlow\\.venv\\Lib\\site-packages\\sklearn\\metrics\\_classification.py:1565: UndefinedMetricWarning: F-score is ill-defined and being set to 0.0 in labels with no true nor predicted samples. Use `zero_division` parameter to control this behavior.\n",
      "  _warn_prf(average, modifier, f\"{metric.capitalize()} is\", len(result))\n",
      "d:\\NLP-CrowdFlow\\.venv\\Lib\\site-packages\\sklearn\\metrics\\_classification.py:1565: UndefinedMetricWarning: Precision is ill-defined and being set to 0.0 in labels with no predicted samples. Use `zero_division` parameter to control this behavior.\n",
      "  _warn_prf(average, modifier, f\"{metric.capitalize()} is\", len(result))\n",
      "d:\\NLP-CrowdFlow\\.venv\\Lib\\site-packages\\sklearn\\metrics\\_classification.py:1565: UndefinedMetricWarning: Recall is ill-defined and being set to 0.0 in labels with no true samples. Use `zero_division` parameter to control this behavior.\n",
      "  _warn_prf(average, modifier, f\"{metric.capitalize()} is\", len(result))\n",
      "d:\\NLP-CrowdFlow\\.venv\\Lib\\site-packages\\sklearn\\metrics\\_classification.py:1565: UndefinedMetricWarning: F-score is ill-defined and being set to 0.0 in labels with no true nor predicted samples. Use `zero_division` parameter to control this behavior.\n",
      "  _warn_prf(average, modifier, f\"{metric.capitalize()} is\", len(result))\n"
     ]
    },
    {
     "data": {
      "image/png": "[encoded data removed]",
      "text/plain": [
       "<Figure size 640x480 with 2 Axes>"
      ]
     },
     "metadata": {},
     "output_type": "display_data"
    },
    {
     "name": "stdout",
     "output_type": "stream",
     "text": [
      "Classification Report for nltk_rf_n_gram_1_3_balanced model_unbalanced test data:\n",
      "              precision    recall  f1-score   support\n",
      "\n",
      "    positive       0.00      0.00      0.00         0\n",
      "     neutral       1.00      1.00      1.00         1\n",
      "    negative       1.00      1.00      1.00         1\n",
      "\n",
      "    accuracy                           1.00         2\n",
      "   macro avg       0.67      0.67      0.67         2\n",
      "weighted avg       1.00      1.00      1.00         2\n",
      "\n",
      "Confusion Matrix for nltk_rf_n_gram_1_3_balanced model_unbalanced test data:\n",
      "[[0. 0. 0.]\n",
      " [0. 1. 0.]\n",
      " [0. 0. 1.]]\n"
     ]
    },
    {
     "name": "stderr",
     "output_type": "stream",
     "text": [
      "d:\\NLP-CrowdFlow\\.venv\\Lib\\site-packages\\sklearn\\metrics\\_classification.py:1565: UndefinedMetricWarning: Precision is ill-defined and being set to 0.0 in labels with no predicted samples. Use `zero_division` parameter to control this behavior.\n",
      "  _warn_prf(average, modifier, f\"{metric.capitalize()} is\", len(result))\n",
      "d:\\NLP-CrowdFlow\\.venv\\Lib\\site-packages\\sklearn\\metrics\\_classification.py:1565: UndefinedMetricWarning: Recall is ill-defined and being set to 0.0 in labels with no true samples. Use `zero_division` parameter to control this behavior.\n",
      "  _warn_prf(average, modifier, f\"{metric.capitalize()} is\", len(result))\n",
      "d:\\NLP-CrowdFlow\\.venv\\Lib\\site-packages\\sklearn\\metrics\\_classification.py:1565: UndefinedMetricWarning: F-score is ill-defined and being set to 0.0 in labels with no true nor predicted samples. Use `zero_division` parameter to control this behavior.\n",
      "  _warn_prf(average, modifier, f\"{metric.capitalize()} is\", len(result))\n",
      "d:\\NLP-CrowdFlow\\.venv\\Lib\\site-packages\\sklearn\\metrics\\_classification.py:1565: UndefinedMetricWarning: Precision is ill-defined and being set to 0.0 in labels with no predicted samples. Use `zero_division` parameter to control this behavior.\n",
      "  _warn_prf(average, modifier, f\"{metric.capitalize()} is\", len(result))\n",
      "d:\\NLP-CrowdFlow\\.venv\\Lib\\site-packages\\sklearn\\metrics\\_classification.py:1565: UndefinedMetricWarning: Recall is ill-defined and being set to 0.0 in labels with no true samples. Use `zero_division` parameter to control this behavior.\n",
      "  _warn_prf(average, modifier, f\"{metric.capitalize()} is\", len(result))\n",
      "d:\\NLP-CrowdFlow\\.venv\\Lib\\site-packages\\sklearn\\metrics\\_classification.py:1565: UndefinedMetricWarning: F-score is ill-defined and being set to 0.0 in labels with no true nor predicted samples. Use `zero_division` parameter to control this behavior.\n",
      "  _warn_prf(average, modifier, f\"{metric.capitalize()} is\", len(result))\n",
      "d:\\NLP-CrowdFlow\\.venv\\Lib\\site-packages\\sklearn\\metrics\\_classification.py:1565: UndefinedMetricWarning: Precision is ill-defined and being set to 0.0 in labels with no predicted samples. Use `zero_division` parameter to control this behavior.\n",
      "  _warn_prf(average, modifier, f\"{metric.capitalize()} is\", len(result))\n",
      "d:\\NLP-CrowdFlow\\.venv\\Lib\\site-packages\\sklearn\\metrics\\_classification.py:1565: UndefinedMetricWarning: Recall is ill-defined and being set to 0.0 in labels with no true samples. Use `zero_division` parameter to control this behavior.\n",
      "  _warn_prf(average, modifier, f\"{metric.capitalize()} is\", len(result))\n",
      "d:\\NLP-CrowdFlow\\.venv\\Lib\\site-packages\\sklearn\\metrics\\_classification.py:1565: UndefinedMetricWarning: F-score is ill-defined and being set to 0.0 in labels with no true nor predicted samples. Use `zero_division` parameter to control this behavior.\n",
      "  _warn_prf(average, modifier, f\"{metric.capitalize()} is\", len(result))\n"
     ]
    },
    {
     "data": {
      "image/png": "[encoded data removed]",
      "text/plain": [
       "<Figure size 640x480 with 2 Axes>"
      ]
     },
     "metadata": {},
     "output_type": "display_data"
    }
   ],
   "source": [
    "nltk_rf_ngram_1_3_model.evaluate(False, False)\n",
    "nltk_rf_ngram_1_3_model.evaluate(True, True)\n",
    "nltk_rf_ngram_1_3_model.evaluate(True, False)"
   ]
  },
  {
   "cell_type": "code",
   "execution_count": 50,
   "metadata": {},
   "outputs": [],
   "source": [
    "# nltk_rf_ngram_1_3_model.dump(\"../res/models\")"
   ]
  }
 ],
 "metadata": {
  "kernelspec": {
   "display_name": ".venv",
   "language": "python",
   "name": "python3"
  },
  "language_info": {
   "codemirror_mode": {
    "name": "ipython",
    "version": 3
   },
   "file_extension": ".py",
   "mimetype": "text/x-python",
   "name": "python",
   "nbconvert_exporter": "python",
   "pygments_lexer": "ipython3",
   "version": "3.12.7"
  }
 },
 "nbformat": 4,
 "nbformat_minor": 2
}
