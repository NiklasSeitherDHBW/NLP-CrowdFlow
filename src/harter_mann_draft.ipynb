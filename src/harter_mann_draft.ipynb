{
 "cells": [
  {
   "cell_type": "code",
   "execution_count": 2,
   "metadata": {},
   "outputs": [],
   "source": [
    "import matplotlib.pyplot as plt\n",
    "import nltk  \n",
    "from nltk.tokenize import word_tokenize  \n",
    "from nltk.corpus import stopwords  \n",
    "import pandas as pd\n",
    "import re\n",
    "from sklearn.model_selection import train_test_split  \n",
    "from sklearn.pipeline import Pipeline  \n",
    "from sklearn.base import BaseEstimator, TransformerMixin  \n",
    "from sklearn.compose import ColumnTransformer  \n",
    "from sklearn.preprocessing import LabelEncoder  \n",
    "from sklearn.ensemble import RandomForestClassifier  \n",
    "from sklearn.metrics import classification_report, confusion_matrix, ConfusionMatrixDisplay  \n",
    "from sklearn.feature_extraction.text import TfidfVectorizer  \n",
    "from sklearn.utils import resample\n",
    "import string"
   ]
  },
  {
   "cell_type": "code",
   "execution_count": 3,
   "metadata": {},
   "outputs": [],
   "source": [
    "RANDOM_STATE = 42"
   ]
  },
  {
   "cell_type": "markdown",
   "metadata": {},
   "source": [
    "## Load Data"
   ]
  },
  {
   "cell_type": "markdown",
   "metadata": {},
   "source": [
    "### Crypto Tweets / News"
   ]
  },
  {
   "cell_type": "markdown",
   "metadata": {},
   "source": [
    "#### Read Data"
   ]
  },
  {
   "cell_type": "code",
   "execution_count": 4,
   "metadata": {},
   "outputs": [
    {
     "data": {
      "text/html": [
       "<div>\n",
       "<style scoped>\n",
       "    .dataframe tbody tr th:only-of-type {\n",
       "        vertical-align: middle;\n",
       "    }\n",
       "\n",
       "    .dataframe tbody tr th {\n",
       "        vertical-align: top;\n",
       "    }\n",
       "\n",
       "    .dataframe thead th {\n",
       "        text-align: right;\n",
       "    }\n",
       "</style>\n",
       "<table border=\"1\" class=\"dataframe\">\n",
       "  <thead>\n",
       "    <tr style=\"text-align: right;\">\n",
       "      <th></th>\n",
       "      <th>date</th>\n",
       "      <th>sentiment</th>\n",
       "      <th>source</th>\n",
       "      <th>subject</th>\n",
       "      <th>text</th>\n",
       "      <th>title</th>\n",
       "      <th>url</th>\n",
       "    </tr>\n",
       "  </thead>\n",
       "  <tbody>\n",
       "    <tr>\n",
       "      <th>0</th>\n",
       "      <td>2023-04-05 06:52:09</td>\n",
       "      <td>{'class': 'negative', 'polarity': -0.03, 'subj...</td>\n",
       "      <td>CoinTelegraph</td>\n",
       "      <td>defi</td>\n",
       "      <td>The compensation process is expected to start ...</td>\n",
       "      <td>Allbridge to first begin repaying stuck bridge...</td>\n",
       "      <td>https://cointelegraph.com/news/allbridge-to-fi...</td>\n",
       "    </tr>\n",
       "    <tr>\n",
       "      <th>1</th>\n",
       "      <td>2023-04-05 06:19:00</td>\n",
       "      <td>{'class': 'neutral', 'polarity': 0.0, 'subject...</td>\n",
       "      <td>CryptoPotato</td>\n",
       "      <td>bitcoin</td>\n",
       "      <td>On-chain analytics revealed a sentiment shift ...</td>\n",
       "      <td>Bitcoin Hodl Patterns Indicate Cycle Shift to ...</td>\n",
       "      <td>https://cryptopotato.com/bitcoin-hodl-patterns...</td>\n",
       "    </tr>\n",
       "    <tr>\n",
       "      <th>2</th>\n",
       "      <td>2023-04-05 05:09:44</td>\n",
       "      <td>{'class': 'negative', 'polarity': -0.04, 'subj...</td>\n",
       "      <td>CoinTelegraph</td>\n",
       "      <td>bitcoin</td>\n",
       "      <td>Ether has broken the $1,900 resistance level f...</td>\n",
       "      <td>ETH hits 7-month high ahead of Shanghai and Ca...</td>\n",
       "      <td>https://cointelegraph.com/news/eth-hits-7-mont...</td>\n",
       "    </tr>\n",
       "    <tr>\n",
       "      <th>3</th>\n",
       "      <td>2023-04-05 01:09:52</td>\n",
       "      <td>{'class': 'positive', 'polarity': 0.07, 'subje...</td>\n",
       "      <td>CoinTelegraph</td>\n",
       "      <td>bitcoin</td>\n",
       "      <td>With a new quarterly production record, Marath...</td>\n",
       "      <td>Marathon Digital posts quarterly record of 2,1...</td>\n",
       "      <td>https://cointelegraph.com/news/marathon-digita...</td>\n",
       "    </tr>\n",
       "    <tr>\n",
       "      <th>4</th>\n",
       "      <td>2023-04-04 23:49:00</td>\n",
       "      <td>{'class': 'positive', 'polarity': 0.4, 'subjec...</td>\n",
       "      <td>CryptoPotato</td>\n",
       "      <td>altcoin</td>\n",
       "      <td>The stablecoin BTG Dol will supposedly become ...</td>\n",
       "      <td>Brazilian Finance Giant BTG Pactual to Issue a...</td>\n",
       "      <td>https://cryptopotato.com/brazilian-finance-gia...</td>\n",
       "    </tr>\n",
       "  </tbody>\n",
       "</table>\n",
       "</div>"
      ],
      "text/plain": [
       "                  date                                          sentiment  \\\n",
       "0  2023-04-05 06:52:09  {'class': 'negative', 'polarity': -0.03, 'subj...   \n",
       "1  2023-04-05 06:19:00  {'class': 'neutral', 'polarity': 0.0, 'subject...   \n",
       "2  2023-04-05 05:09:44  {'class': 'negative', 'polarity': -0.04, 'subj...   \n",
       "3  2023-04-05 01:09:52  {'class': 'positive', 'polarity': 0.07, 'subje...   \n",
       "4  2023-04-04 23:49:00  {'class': 'positive', 'polarity': 0.4, 'subjec...   \n",
       "\n",
       "          source  subject                                               text  \\\n",
       "0  CoinTelegraph     defi  The compensation process is expected to start ...   \n",
       "1   CryptoPotato  bitcoin  On-chain analytics revealed a sentiment shift ...   \n",
       "2  CoinTelegraph  bitcoin  Ether has broken the $1,900 resistance level f...   \n",
       "3  CoinTelegraph  bitcoin  With a new quarterly production record, Marath...   \n",
       "4   CryptoPotato  altcoin  The stablecoin BTG Dol will supposedly become ...   \n",
       "\n",
       "                                               title  \\\n",
       "0  Allbridge to first begin repaying stuck bridge...   \n",
       "1  Bitcoin Hodl Patterns Indicate Cycle Shift to ...   \n",
       "2  ETH hits 7-month high ahead of Shanghai and Ca...   \n",
       "3  Marathon Digital posts quarterly record of 2,1...   \n",
       "4  Brazilian Finance Giant BTG Pactual to Issue a...   \n",
       "\n",
       "                                                 url  \n",
       "0  https://cointelegraph.com/news/allbridge-to-fi...  \n",
       "1  https://cryptopotato.com/bitcoin-hodl-patterns...  \n",
       "2  https://cointelegraph.com/news/eth-hits-7-mont...  \n",
       "3  https://cointelegraph.com/news/marathon-digita...  \n",
       "4  https://cryptopotato.com/brazilian-finance-gia...  "
      ]
     },
     "execution_count": 4,
     "metadata": {},
     "output_type": "execute_result"
    }
   ],
   "source": [
    "data_raw = pd.read_csv(\"../res/input/cryptonews.csv\")\n",
    "data_raw.head()"
   ]
  },
  {
   "cell_type": "code",
   "execution_count": 5,
   "metadata": {},
   "outputs": [],
   "source": [
    "df_tweets = data_raw.copy(deep=True)"
   ]
  },
  {
   "cell_type": "markdown",
   "metadata": {},
   "source": [
    "## Feature Engineering"
   ]
  },
  {
   "cell_type": "code",
   "execution_count": 6,
   "metadata": {},
   "outputs": [
    {
     "data": {
      "text/html": [
       "<div>\n",
       "<style scoped>\n",
       "    .dataframe tbody tr th:only-of-type {\n",
       "        vertical-align: middle;\n",
       "    }\n",
       "\n",
       "    .dataframe tbody tr th {\n",
       "        vertical-align: top;\n",
       "    }\n",
       "\n",
       "    .dataframe thead th {\n",
       "        text-align: right;\n",
       "    }\n",
       "</style>\n",
       "<table border=\"1\" class=\"dataframe\">\n",
       "  <thead>\n",
       "    <tr style=\"text-align: right;\">\n",
       "      <th></th>\n",
       "      <th>date</th>\n",
       "      <th>source</th>\n",
       "      <th>subject</th>\n",
       "      <th>text</th>\n",
       "      <th>title</th>\n",
       "      <th>sentiment</th>\n",
       "      <th>polarity</th>\n",
       "      <th>subjectivity</th>\n",
       "    </tr>\n",
       "  </thead>\n",
       "  <tbody>\n",
       "    <tr>\n",
       "      <th>0</th>\n",
       "      <td>2023-04-05 06:52:09</td>\n",
       "      <td>CoinTelegraph</td>\n",
       "      <td>defi</td>\n",
       "      <td>The compensation process is expected to start ...</td>\n",
       "      <td>Allbridge to first begin repaying stuck bridge...</td>\n",
       "      <td>negative</td>\n",
       "      <td>-0.03</td>\n",
       "      <td>0.20</td>\n",
       "    </tr>\n",
       "    <tr>\n",
       "      <th>1</th>\n",
       "      <td>2023-04-05 06:19:00</td>\n",
       "      <td>CryptoPotato</td>\n",
       "      <td>bitcoin</td>\n",
       "      <td>On-chain analytics revealed a sentiment shift ...</td>\n",
       "      <td>Bitcoin Hodl Patterns Indicate Cycle Shift to ...</td>\n",
       "      <td>neutral</td>\n",
       "      <td>0.00</td>\n",
       "      <td>0.00</td>\n",
       "    </tr>\n",
       "    <tr>\n",
       "      <th>2</th>\n",
       "      <td>2023-04-05 05:09:44</td>\n",
       "      <td>CoinTelegraph</td>\n",
       "      <td>bitcoin</td>\n",
       "      <td>Ether has broken the $1,900 resistance level f...</td>\n",
       "      <td>ETH hits 7-month high ahead of Shanghai and Ca...</td>\n",
       "      <td>negative</td>\n",
       "      <td>-0.04</td>\n",
       "      <td>0.31</td>\n",
       "    </tr>\n",
       "    <tr>\n",
       "      <th>3</th>\n",
       "      <td>2023-04-05 01:09:52</td>\n",
       "      <td>CoinTelegraph</td>\n",
       "      <td>bitcoin</td>\n",
       "      <td>With a new quarterly production record, Marath...</td>\n",
       "      <td>Marathon Digital posts quarterly record of 2,1...</td>\n",
       "      <td>positive</td>\n",
       "      <td>0.07</td>\n",
       "      <td>0.23</td>\n",
       "    </tr>\n",
       "    <tr>\n",
       "      <th>4</th>\n",
       "      <td>2023-04-04 23:49:00</td>\n",
       "      <td>CryptoPotato</td>\n",
       "      <td>altcoin</td>\n",
       "      <td>The stablecoin BTG Dol will supposedly become ...</td>\n",
       "      <td>Brazilian Finance Giant BTG Pactual to Issue a...</td>\n",
       "      <td>positive</td>\n",
       "      <td>0.40</td>\n",
       "      <td>0.40</td>\n",
       "    </tr>\n",
       "  </tbody>\n",
       "</table>\n",
       "</div>"
      ],
      "text/plain": [
       "                  date         source  subject  \\\n",
       "0  2023-04-05 06:52:09  CoinTelegraph     defi   \n",
       "1  2023-04-05 06:19:00   CryptoPotato  bitcoin   \n",
       "2  2023-04-05 05:09:44  CoinTelegraph  bitcoin   \n",
       "3  2023-04-05 01:09:52  CoinTelegraph  bitcoin   \n",
       "4  2023-04-04 23:49:00   CryptoPotato  altcoin   \n",
       "\n",
       "                                                text  \\\n",
       "0  The compensation process is expected to start ...   \n",
       "1  On-chain analytics revealed a sentiment shift ...   \n",
       "2  Ether has broken the $1,900 resistance level f...   \n",
       "3  With a new quarterly production record, Marath...   \n",
       "4  The stablecoin BTG Dol will supposedly become ...   \n",
       "\n",
       "                                               title sentiment  polarity  \\\n",
       "0  Allbridge to first begin repaying stuck bridge...  negative     -0.03   \n",
       "1  Bitcoin Hodl Patterns Indicate Cycle Shift to ...   neutral      0.00   \n",
       "2  ETH hits 7-month high ahead of Shanghai and Ca...  negative     -0.04   \n",
       "3  Marathon Digital posts quarterly record of 2,1...  positive      0.07   \n",
       "4  Brazilian Finance Giant BTG Pactual to Issue a...  positive      0.40   \n",
       "\n",
       "   subjectivity  \n",
       "0          0.20  \n",
       "1          0.00  \n",
       "2          0.31  \n",
       "3          0.23  \n",
       "4          0.40  "
      ]
     },
     "execution_count": 6,
     "metadata": {},
     "output_type": "execute_result"
    }
   ],
   "source": [
    "# Convert sentiment column from string to dict\n",
    "df_tweets[\"sentiment\"] = df_tweets[\"sentiment\"].apply(eval)\n",
    "\n",
    "# Split dictionary in separate columns\n",
    "df_sentiment = pd.json_normalize(df_tweets[\"sentiment\"])\n",
    "df_tweets = pd.concat([df_tweets, df_sentiment], axis=1)\n",
    "\n",
    "df_tweets = df_tweets.drop(columns=[\"sentiment\", \"url\"])\n",
    "df_tweets = df_tweets.rename(columns={\"class\": \"sentiment\"})\n",
    "df_tweets.head()"
   ]
  },
  {
   "cell_type": "code",
   "execution_count": 7,
   "metadata": {},
   "outputs": [
    {
     "name": "stdout",
     "output_type": "stream",
     "text": [
      "Min Date: 2021-10-12 20:00:00\n",
      "Max Date: 2023-04-05 06:52:09\n"
     ]
    }
   ],
   "source": [
    "# Convert date column to datetime\n",
    "df_tweets['date'] = pd.to_datetime(df_tweets['date'], format='mixed', errors='coerce')\n",
    "\n",
    "# Calculate min and max date\n",
    "min_date = df_tweets['date'].min()\n",
    "max_date = df_tweets['date'].max()\n",
    "\n",
    "print(\"Min Date:\", min_date)\n",
    "print(\"Max Date:\", max_date)"
   ]
  },
  {
   "cell_type": "markdown",
   "metadata": {},
   "source": [
    "## Model Pipeline"
   ]
  },
  {
   "cell_type": "markdown",
   "metadata": {},
   "source": [
    "### Feature Engineering"
   ]
  },
  {
   "cell_type": "code",
   "execution_count": 8,
   "metadata": {},
   "outputs": [],
   "source": [
    "# Define the target and features\n",
    "target = \"sentiment\"\n",
    "features = [\"text\", \"title\", \"subject\", \"source\"]\n",
    "\n",
    "X = df_tweets[features]\n",
    "y = df_tweets[target]\n",
    "\n",
    "# Split the data into training and testing sets\n",
    "X_train, X_test, y_train, y_test = train_test_split(X, y, test_size=0.2, random_state=RANDOM_STATE)"
   ]
  },
  {
   "cell_type": "markdown",
   "metadata": {},
   "source": [
    "### Dataset Balancing"
   ]
  },
  {
   "cell_type": "code",
   "execution_count": 9,
   "metadata": {},
   "outputs": [],
   "source": [
    "# Create a second training dataset with balanced classes\n",
    "sentiment_counts = df_tweets[target].value_counts()\n",
    "\n",
    "# Get the category with the least amount of samples\n",
    "max_count = sentiment_counts.max()\n",
    "\n",
    "balanced_dfs = []\n",
    "for sentiment, count in sentiment_counts.items():\n",
    "    df_sentiment = df_tweets[df_tweets[target] == sentiment]\n",
    "    if count < max_count:\n",
    "        df_sentiment_resampled = resample(df_sentiment, replace=True, n_samples=max_count, random_state=RANDOM_STATE)\n",
    "        balanced_dfs.append(df_sentiment_resampled)\n",
    "    else:\n",
    "        balanced_dfs.append(df_sentiment)\n",
    "        \n",
    "df_tweets_balanced = pd.concat(balanced_dfs)\n",
    "\n",
    "X_blanced = df_tweets_balanced[features]\n",
    "y_blanced = df_tweets_balanced[target]\n",
    "\n",
    "X_train_balanced, X_test_balanced, y_train_balanced, y_test_balanced = train_test_split(X_blanced, y_blanced, test_size=0.2, random_state=RANDOM_STATE)"
   ]
  },
  {
   "cell_type": "markdown",
   "metadata": {},
   "source": [
    "### Classification Pipeline"
   ]
  },
  {
   "cell_type": "code",
   "execution_count": 43,
   "metadata": {},
   "outputs": [
    {
     "name": "stderr",
     "output_type": "stream",
     "text": [
      "Some weights of the model checkpoint at j-hartmann/sentiment-roberta-large-english-3-classes were not used when initializing RobertaForSequenceClassification: ['roberta.pooler.dense.bias', 'roberta.pooler.dense.weight']\n",
      "- This IS expected if you are initializing RobertaForSequenceClassification from the checkpoint of a model trained on another task or with another architecture (e.g. initializing a BertForSequenceClassification model from a BertForPreTraining model).\n",
      "- This IS NOT expected if you are initializing RobertaForSequenceClassification from the checkpoint of a model that you expect to be exactly identical (initializing a BertForSequenceClassification model from a BertForSequenceClassification model).\n",
      "C:\\Users\\CARLO\\AppData\\Roaming\\Python\\Python312\\site-packages\\transformers\\pipelines\\text_classification.py:106: UserWarning: `return_all_scores` is now deprecated,  if want a similar functionality use `top_k=None` instead of `return_all_scores=True` or `top_k=1` instead of `return_all_scores=False`.\n",
      "  warnings.warn(\n"
     ]
    },
    {
     "data": {
      "text/plain": [
       "[{'label': 'positive', 'score': 0.8542226552963257}]"
      ]
     },
     "execution_count": 43,
     "metadata": {},
     "output_type": "execute_result"
    }
   ],
   "source": [
    "from transformers import pipeline\n",
    "sentiment_analyzer = pipeline(\"text-classification\", model=\"j-hartmann/sentiment-roberta-large-english-3-classes\", return_all_scores=False)\n",
    "sentiment_analyzer(\"Sophie has massive tits\")"
   ]
  },
  {
   "cell_type": "code",
   "execution_count": 44,
   "metadata": {},
   "outputs": [],
   "source": [
    "# Anwenden der Pipeline auf die 'text'-Spalte und Extrahieren der Labels\n",
    "X_test['predicted_label'] = X_test['text'].apply(lambda x: sentiment_analyzer(x)[0]['label'])\n",
    "\n",
    "# Mapping der Labels auf numerische Werte\n",
    "label_mapping = {'negative': 0, 'neutral': 1, 'positive': 2}\n",
    "\n",
    "X_test['predicted_numeric'] = X_test['predicted_label'].map(label_mapping)"
   ]
  },
  {
   "cell_type": "code",
   "execution_count": 46,
   "metadata": {},
   "outputs": [
    {
     "data": {
      "text/html": [
       "<div>\n",
       "<style scoped>\n",
       "    .dataframe tbody tr th:only-of-type {\n",
       "        vertical-align: middle;\n",
       "    }\n",
       "\n",
       "    .dataframe tbody tr th {\n",
       "        vertical-align: top;\n",
       "    }\n",
       "\n",
       "    .dataframe thead th {\n",
       "        text-align: right;\n",
       "    }\n",
       "</style>\n",
       "<table border=\"1\" class=\"dataframe\">\n",
       "  <thead>\n",
       "    <tr style=\"text-align: right;\">\n",
       "      <th></th>\n",
       "      <th>text</th>\n",
       "      <th>predicted_label</th>\n",
       "      <th>predicted_numeric</th>\n",
       "    </tr>\n",
       "  </thead>\n",
       "  <tbody>\n",
       "    <tr>\n",
       "      <th>2325</th>\n",
       "      <td>DekaBank’s partnership with Metaco is not abou...</td>\n",
       "      <td>neutral</td>\n",
       "      <td>1</td>\n",
       "    </tr>\n",
       "    <tr>\n",
       "      <th>14293</th>\n",
       "      <td>The company appears to have abruptly terminate...</td>\n",
       "      <td>neutral</td>\n",
       "      <td>1</td>\n",
       "    </tr>\n",
       "    <tr>\n",
       "      <th>6179</th>\n",
       "      <td>Web3 security's not only about money; it’s abo...</td>\n",
       "      <td>neutral</td>\n",
       "      <td>1</td>\n",
       "    </tr>\n",
       "    <tr>\n",
       "      <th>16179</th>\n",
       "      <td>The ultimate goal is to accept crypto for paym...</td>\n",
       "      <td>neutral</td>\n",
       "      <td>1</td>\n",
       "    </tr>\n",
       "    <tr>\n",
       "      <th>11257</th>\n",
       "      <td>It adds three new coins, modifies rates for fi...</td>\n",
       "      <td>neutral</td>\n",
       "      <td>1</td>\n",
       "    </tr>\n",
       "  </tbody>\n",
       "</table>\n",
       "</div>"
      ],
      "text/plain": [
       "                                                    text predicted_label  \\\n",
       "2325   DekaBank’s partnership with Metaco is not abou...         neutral   \n",
       "14293  The company appears to have abruptly terminate...         neutral   \n",
       "6179   Web3 security's not only about money; it’s abo...         neutral   \n",
       "16179  The ultimate goal is to accept crypto for paym...         neutral   \n",
       "11257  It adds three new coins, modifies rates for fi...         neutral   \n",
       "\n",
       "       predicted_numeric  \n",
       "2325                   1  \n",
       "14293                  1  \n",
       "6179                   1  \n",
       "16179                  1  \n",
       "11257                  1  "
      ]
     },
     "execution_count": 46,
     "metadata": {},
     "output_type": "execute_result"
    }
   ],
   "source": [
    "X_test.head()"
   ]
  },
  {
   "cell_type": "code",
   "execution_count": 48,
   "metadata": {},
   "outputs": [
    {
     "name": "stdout",
     "output_type": "stream",
     "text": [
      "Accuracy: 0.3542733890536533\n",
      "Negative - Precision: 0.0, Recall: 0.0, F1 Score: 0.0\n",
      "Neutral - Precision: 0.0, Recall: 0.0, F1 Score: 0.0\n",
      "Positive - Precision: 0.0, Recall: 0.0, F1 Score: 0.0\n",
      "Confusion Matrix:\n",
      "[[ 142  603    0]\n",
      " [ 131 1164    3]\n",
      " [ 126 1532    8]]\n"
     ]
    },
    {
     "name": "stderr",
     "output_type": "stream",
     "text": [
      "c:\\Python312\\Lib\\site-packages\\sklearn\\metrics\\_classification.py:1517: UndefinedMetricWarning: Precision is ill-defined and being set to 0.0 in labels with no predicted samples. Use `zero_division` parameter to control this behavior.\n",
      "  _warn_prf(average, modifier, f\"{metric.capitalize()} is\", len(result))\n",
      "c:\\Python312\\Lib\\site-packages\\sklearn\\metrics\\_classification.py:1517: UndefinedMetricWarning: Recall is ill-defined and being set to 0.0 in labels with no true samples. Use `zero_division` parameter to control this behavior.\n",
      "  _warn_prf(average, modifier, f\"{metric.capitalize()} is\", len(result))\n",
      "c:\\Python312\\Lib\\site-packages\\sklearn\\metrics\\_classification.py:1517: UndefinedMetricWarning: F-score is ill-defined and being set to 0.0 in labels with no true nor predicted samples. Use `zero_division` parameter to control this behavior.\n",
      "  _warn_prf(average, modifier, f\"{metric.capitalize()} is\", len(result))\n"
     ]
    }
   ],
   "source": [
    "from sklearn.metrics import accuracy_score, precision_recall_fscore_support, confusion_matrix\n",
    "\n",
    "# Annahme: Die tatsächlichen Labels sind bereits numerisch kodiert und in der Spalte 'true_label' vorhanden\n",
    "y_pred = X_test['predicted_label']\n",
    "\n",
    "# Berechnung der Accuracy\n",
    "accuracy = accuracy_score(y_test, y_pred)\n",
    "\n",
    "# Berechnung von Precision, Recall und F1-Score für jede Klasse\n",
    "precision, recall, f1, _ = precision_recall_fscore_support(y_test, y_pred, average=None, labels=[0, 1, 2])\n",
    "\n",
    "# Berechnung der Konfusionsmatrix\n",
    "cm = confusion_matrix(y_test, y_pred, labels=['negative', 'neutral', 'positive'])\n",
    "\n",
    "# Ausgabe der Ergebnisse\n",
    "print(f\"Accuracy: {accuracy}\")\n",
    "for i, label in enumerate(['negative', 'neutral', 'positive']):\n",
    "    print(f\"{label.capitalize()} - Precision: {precision[i]}, Recall: {recall[i]}, F1 Score: {f1[i]}\")\n",
    "print(\"Confusion Matrix:\")\n",
    "print(cm)"
   ]
  },
  {
   "cell_type": "markdown",
   "metadata": {},
   "source": [
    "## Evaluation"
   ]
  },
  {
   "cell_type": "code",
   "execution_count": 51,
   "metadata": {},
   "outputs": [],
   "source": [
    "# Anwenden der Pipeline auf die 'text'-Spalte und Extrahieren der Labels\n",
    "X_test_balanced['predicted_label'] = X_test_balanced['text'].apply(lambda x: sentiment_analyzer(x)[0]['label'])\n",
    "\n",
    "# Mapping der Labels auf numerische Werte\n",
    "label_mapping = {'negative': 0, 'neutral': 1, 'positive': 2}\n",
    "\n",
    "X_test_balanced['predicted_numeric'] = X_test_balanced['predicted_label'].map(label_mapping)"
   ]
  },
  {
   "cell_type": "code",
   "execution_count": 52,
   "metadata": {},
   "outputs": [
    {
     "name": "stdout",
     "output_type": "stream",
     "text": [
      "Accuracy: 0.3579750903977501\n",
      "Negative - Precision: 0.0, Recall: 0.0, F1 Score: 0.0\n",
      "Neutral - Precision: 0.0, Recall: 0.0, F1 Score: 0.0\n",
      "Positive - Precision: 0.0, Recall: 0.0, F1 Score: 0.0\n",
      "Confusion Matrix:\n",
      "[[ 305 1351    1]\n",
      " [ 145 1470    6]\n",
      " [ 145 1548    7]]\n"
     ]
    },
    {
     "name": "stderr",
     "output_type": "stream",
     "text": [
      "c:\\Python312\\Lib\\site-packages\\sklearn\\metrics\\_classification.py:1517: UndefinedMetricWarning: Precision is ill-defined and being set to 0.0 in labels with no predicted samples. Use `zero_division` parameter to control this behavior.\n",
      "  _warn_prf(average, modifier, f\"{metric.capitalize()} is\", len(result))\n",
      "c:\\Python312\\Lib\\site-packages\\sklearn\\metrics\\_classification.py:1517: UndefinedMetricWarning: Recall is ill-defined and being set to 0.0 in labels with no true samples. Use `zero_division` parameter to control this behavior.\n",
      "  _warn_prf(average, modifier, f\"{metric.capitalize()} is\", len(result))\n",
      "c:\\Python312\\Lib\\site-packages\\sklearn\\metrics\\_classification.py:1517: UndefinedMetricWarning: F-score is ill-defined and being set to 0.0 in labels with no true nor predicted samples. Use `zero_division` parameter to control this behavior.\n",
      "  _warn_prf(average, modifier, f\"{metric.capitalize()} is\", len(result))\n"
     ]
    }
   ],
   "source": [
    "from sklearn.metrics import accuracy_score, precision_recall_fscore_support, confusion_matrix\n",
    "\n",
    "# Annahme: Die tatsächlichen Labels sind bereits numerisch kodiert und in der Spalte 'true_label' vorhanden\n",
    "y_pred_balanced = X_test_balanced['predicted_label']\n",
    "\n",
    "# Berechnung der Accuracy\n",
    "accuracy = accuracy_score(y_test_balanced, y_pred_balanced)\n",
    "\n",
    "# Berechnung von Precision, Recall und F1-Score für jede Klasse\n",
    "precision, recall, f1, _ = precision_recall_fscore_support(y_test_balanced, y_pred_balanced, average=None, labels=[0, 1, 2])\n",
    "\n",
    "# Berechnung der Konfusionsmatrix\n",
    "cm = confusion_matrix(y_test_balanced, y_pred_balanced, labels=['negative', 'neutral', 'positive'])\n",
    "\n",
    "# Ausgabe der Ergebnisse\n",
    "print(f\"Accuracy: {accuracy}\")\n",
    "for i, label in enumerate(['negative', 'neutral', 'positive']):\n",
    "    print(f\"{label.capitalize()} - Precision: {precision[i]}, Recall: {recall[i]}, F1 Score: {f1[i]}\")\n",
    "print(\"Confusion Matrix:\")\n",
    "print(cm)"
   ]
  },
  {
   "cell_type": "code",
   "execution_count": null,
   "metadata": {},
   "outputs": [],
   "source": []
  }
 ],
 "metadata": {
  "kernelspec": {
   "display_name": "Python 3",
   "language": "python",
   "name": "python3"
  },
  "language_info": {
   "codemirror_mode": {
    "name": "ipython",
    "version": 3
   },
   "file_extension": ".py",
   "mimetype": "text/x-python",
   "name": "python",
   "nbconvert_exporter": "python",
   "pygments_lexer": "ipython3",
   "version": "3.12.4"
  }
 },
 "nbformat": 4,
 "nbformat_minor": 2
}
