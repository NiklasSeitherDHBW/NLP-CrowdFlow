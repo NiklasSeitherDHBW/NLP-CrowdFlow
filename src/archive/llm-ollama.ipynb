{
 "cells": [
  {
   "cell_type": "markdown",
   "metadata": {},
   "source": [
    "To execute this notebook, move it to the `src` folder"
   ]
  },
  {
   "cell_type": "code",
   "execution_count": 1,
   "metadata": {
    "notebookRunGroups": {
     "groupValue": "1"
    }
   },
   "outputs": [],
   "source": [
    "import pandas as pd\n",
    "from utils import utils"
   ]
  },
  {
   "cell_type": "code",
   "execution_count": 2,
   "metadata": {
    "notebookRunGroups": {
     "groupValue": "2"
    }
   },
   "outputs": [],
   "source": [
    "# Define the target and features\n",
    "TARGET = \"sentiment\"\n",
    "FEATURES = [\"text\", \"title\"]"
   ]
  },
  {
   "cell_type": "markdown",
   "metadata": {},
   "source": [
    "## Data Preparation"
   ]
  },
  {
   "cell_type": "code",
   "execution_count": 3,
   "metadata": {
    "notebookRunGroups": {
     "groupValue": "2"
    }
   },
   "outputs": [
    {
     "data": {
      "text/html": [
       "<div>\n",
       "<style scoped>\n",
       "    .dataframe tbody tr th:only-of-type {\n",
       "        vertical-align: middle;\n",
       "    }\n",
       "\n",
       "    .dataframe tbody tr th {\n",
       "        vertical-align: top;\n",
       "    }\n",
       "\n",
       "    .dataframe thead th {\n",
       "        text-align: right;\n",
       "    }\n",
       "</style>\n",
       "<table border=\"1\" class=\"dataframe\">\n",
       "  <thead>\n",
       "    <tr style=\"text-align: right;\">\n",
       "      <th></th>\n",
       "      <th>date</th>\n",
       "      <th>sentiment</th>\n",
       "      <th>source</th>\n",
       "      <th>subject</th>\n",
       "      <th>text</th>\n",
       "      <th>title</th>\n",
       "      <th>url</th>\n",
       "    </tr>\n",
       "  </thead>\n",
       "  <tbody>\n",
       "    <tr>\n",
       "      <th>0</th>\n",
       "      <td>2023-04-05 06:52:09</td>\n",
       "      <td>{'class': 'negative', 'polarity': -0.03, 'subj...</td>\n",
       "      <td>CoinTelegraph</td>\n",
       "      <td>defi</td>\n",
       "      <td>The compensation process is expected to start ...</td>\n",
       "      <td>Allbridge to first begin repaying stuck bridge...</td>\n",
       "      <td>https://cointelegraph.com/news/allbridge-to-fi...</td>\n",
       "    </tr>\n",
       "    <tr>\n",
       "      <th>1</th>\n",
       "      <td>2023-04-05 06:19:00</td>\n",
       "      <td>{'class': 'neutral', 'polarity': 0.0, 'subject...</td>\n",
       "      <td>CryptoPotato</td>\n",
       "      <td>bitcoin</td>\n",
       "      <td>On-chain analytics revealed a sentiment shift ...</td>\n",
       "      <td>Bitcoin Hodl Patterns Indicate Cycle Shift to ...</td>\n",
       "      <td>https://cryptopotato.com/bitcoin-hodl-patterns...</td>\n",
       "    </tr>\n",
       "    <tr>\n",
       "      <th>2</th>\n",
       "      <td>2023-04-05 05:09:44</td>\n",
       "      <td>{'class': 'negative', 'polarity': -0.04, 'subj...</td>\n",
       "      <td>CoinTelegraph</td>\n",
       "      <td>bitcoin</td>\n",
       "      <td>Ether has broken the $1,900 resistance level f...</td>\n",
       "      <td>ETH hits 7-month high ahead of Shanghai and Ca...</td>\n",
       "      <td>https://cointelegraph.com/news/eth-hits-7-mont...</td>\n",
       "    </tr>\n",
       "    <tr>\n",
       "      <th>3</th>\n",
       "      <td>2023-04-05 01:09:52</td>\n",
       "      <td>{'class': 'positive', 'polarity': 0.07, 'subje...</td>\n",
       "      <td>CoinTelegraph</td>\n",
       "      <td>bitcoin</td>\n",
       "      <td>With a new quarterly production record, Marath...</td>\n",
       "      <td>Marathon Digital posts quarterly record of 2,1...</td>\n",
       "      <td>https://cointelegraph.com/news/marathon-digita...</td>\n",
       "    </tr>\n",
       "    <tr>\n",
       "      <th>4</th>\n",
       "      <td>2023-04-04 23:49:00</td>\n",
       "      <td>{'class': 'positive', 'polarity': 0.4, 'subjec...</td>\n",
       "      <td>CryptoPotato</td>\n",
       "      <td>altcoin</td>\n",
       "      <td>The stablecoin BTG Dol will supposedly become ...</td>\n",
       "      <td>Brazilian Finance Giant BTG Pactual to Issue a...</td>\n",
       "      <td>https://cryptopotato.com/brazilian-finance-gia...</td>\n",
       "    </tr>\n",
       "  </tbody>\n",
       "</table>\n",
       "</div>"
      ],
      "text/plain": [
       "                  date                                          sentiment  \\\n",
       "0  2023-04-05 06:52:09  {'class': 'negative', 'polarity': -0.03, 'subj...   \n",
       "1  2023-04-05 06:19:00  {'class': 'neutral', 'polarity': 0.0, 'subject...   \n",
       "2  2023-04-05 05:09:44  {'class': 'negative', 'polarity': -0.04, 'subj...   \n",
       "3  2023-04-05 01:09:52  {'class': 'positive', 'polarity': 0.07, 'subje...   \n",
       "4  2023-04-04 23:49:00  {'class': 'positive', 'polarity': 0.4, 'subjec...   \n",
       "\n",
       "          source  subject                                               text  \\\n",
       "0  CoinTelegraph     defi  The compensation process is expected to start ...   \n",
       "1   CryptoPotato  bitcoin  On-chain analytics revealed a sentiment shift ...   \n",
       "2  CoinTelegraph  bitcoin  Ether has broken the $1,900 resistance level f...   \n",
       "3  CoinTelegraph  bitcoin  With a new quarterly production record, Marath...   \n",
       "4   CryptoPotato  altcoin  The stablecoin BTG Dol will supposedly become ...   \n",
       "\n",
       "                                               title  \\\n",
       "0  Allbridge to first begin repaying stuck bridge...   \n",
       "1  Bitcoin Hodl Patterns Indicate Cycle Shift to ...   \n",
       "2  ETH hits 7-month high ahead of Shanghai and Ca...   \n",
       "3  Marathon Digital posts quarterly record of 2,1...   \n",
       "4  Brazilian Finance Giant BTG Pactual to Issue a...   \n",
       "\n",
       "                                                 url  \n",
       "0  https://cointelegraph.com/news/allbridge-to-fi...  \n",
       "1  https://cryptopotato.com/bitcoin-hodl-patterns...  \n",
       "2  https://cointelegraph.com/news/eth-hits-7-mont...  \n",
       "3  https://cointelegraph.com/news/marathon-digita...  \n",
       "4  https://cryptopotato.com/brazilian-finance-gia...  "
      ]
     },
     "execution_count": 3,
     "metadata": {},
     "output_type": "execute_result"
    }
   ],
   "source": [
    "data_raw = pd.read_csv(\"../res/input/cryptonews.csv\")\n",
    "df_tweets = data_raw.copy(deep=True)\n",
    "\n",
    "data_raw.head()"
   ]
  },
  {
   "cell_type": "code",
   "execution_count": 4,
   "metadata": {
    "notebookRunGroups": {
     "groupValue": "2"
    }
   },
   "outputs": [
    {
     "data": {
      "text/html": [
       "<div>\n",
       "<style scoped>\n",
       "    .dataframe tbody tr th:only-of-type {\n",
       "        vertical-align: middle;\n",
       "    }\n",
       "\n",
       "    .dataframe tbody tr th {\n",
       "        vertical-align: top;\n",
       "    }\n",
       "\n",
       "    .dataframe thead th {\n",
       "        text-align: right;\n",
       "    }\n",
       "</style>\n",
       "<table border=\"1\" class=\"dataframe\">\n",
       "  <thead>\n",
       "    <tr style=\"text-align: right;\">\n",
       "      <th></th>\n",
       "      <th>date</th>\n",
       "      <th>sentiment</th>\n",
       "      <th>source</th>\n",
       "      <th>subject</th>\n",
       "      <th>text</th>\n",
       "      <th>title</th>\n",
       "      <th>url</th>\n",
       "    </tr>\n",
       "  </thead>\n",
       "  <tbody>\n",
       "    <tr>\n",
       "      <th>count</th>\n",
       "      <td>18543</td>\n",
       "      <td>18543</td>\n",
       "      <td>18543</td>\n",
       "      <td>18543</td>\n",
       "      <td>18543</td>\n",
       "      <td>18543</td>\n",
       "      <td>18543</td>\n",
       "    </tr>\n",
       "    <tr>\n",
       "      <th>unique</th>\n",
       "      <td>18304</td>\n",
       "      <td>3196</td>\n",
       "      <td>3</td>\n",
       "      <td>6</td>\n",
       "      <td>18131</td>\n",
       "      <td>18511</td>\n",
       "      <td>18543</td>\n",
       "    </tr>\n",
       "    <tr>\n",
       "      <th>top</th>\n",
       "      <td>2022-01-14 00:00:00</td>\n",
       "      <td>{'class': 'neutral', 'polarity': 0.0, 'subject...</td>\n",
       "      <td>CoinTelegraph</td>\n",
       "      <td>bitcoin</td>\n",
       "      <td>Get your daily, bite-sized digest of cryptoass...</td>\n",
       "      <td>Is it Too Late to Buy Shiba Inu? Crypto Expert...</td>\n",
       "      <td>https://cryptonews.com/news/celo-to-be-fastest...</td>\n",
       "    </tr>\n",
       "    <tr>\n",
       "      <th>freq</th>\n",
       "      <td>26</td>\n",
       "      <td>4195</td>\n",
       "      <td>8675</td>\n",
       "      <td>6439</td>\n",
       "      <td>326</td>\n",
       "      <td>4</td>\n",
       "      <td>1</td>\n",
       "    </tr>\n",
       "  </tbody>\n",
       "</table>\n",
       "</div>"
      ],
      "text/plain": [
       "                       date  \\\n",
       "count                 18543   \n",
       "unique                18304   \n",
       "top     2022-01-14 00:00:00   \n",
       "freq                     26   \n",
       "\n",
       "                                                sentiment         source  \\\n",
       "count                                               18543          18543   \n",
       "unique                                               3196              3   \n",
       "top     {'class': 'neutral', 'polarity': 0.0, 'subject...  CoinTelegraph   \n",
       "freq                                                 4195           8675   \n",
       "\n",
       "        subject                                               text  \\\n",
       "count     18543                                              18543   \n",
       "unique        6                                              18131   \n",
       "top     bitcoin  Get your daily, bite-sized digest of cryptoass...   \n",
       "freq       6439                                                326   \n",
       "\n",
       "                                                    title  \\\n",
       "count                                               18543   \n",
       "unique                                              18511   \n",
       "top     Is it Too Late to Buy Shiba Inu? Crypto Expert...   \n",
       "freq                                                    4   \n",
       "\n",
       "                                                      url  \n",
       "count                                               18543  \n",
       "unique                                              18543  \n",
       "top     https://cryptonews.com/news/celo-to-be-fastest...  \n",
       "freq                                                    1  "
      ]
     },
     "execution_count": 4,
     "metadata": {},
     "output_type": "execute_result"
    }
   ],
   "source": [
    "df_tweets.describe()"
   ]
  },
  {
   "cell_type": "code",
   "execution_count": 5,
   "metadata": {},
   "outputs": [
    {
     "data": {
      "text/plain": [
       "date         0\n",
       "sentiment    0\n",
       "source       0\n",
       "subject      0\n",
       "text         0\n",
       "title        0\n",
       "url          0\n",
       "dtype: int64"
      ]
     },
     "execution_count": 5,
     "metadata": {},
     "output_type": "execute_result"
    }
   ],
   "source": [
    "df_tweets.isnull().sum()"
   ]
  },
  {
   "cell_type": "code",
   "execution_count": 6,
   "metadata": {
    "notebookRunGroups": {
     "groupValue": "2"
    }
   },
   "outputs": [
    {
     "data": {
      "text/html": [
       "<div>\n",
       "<style scoped>\n",
       "    .dataframe tbody tr th:only-of-type {\n",
       "        vertical-align: middle;\n",
       "    }\n",
       "\n",
       "    .dataframe tbody tr th {\n",
       "        vertical-align: top;\n",
       "    }\n",
       "\n",
       "    .dataframe thead th {\n",
       "        text-align: right;\n",
       "    }\n",
       "</style>\n",
       "<table border=\"1\" class=\"dataframe\">\n",
       "  <thead>\n",
       "    <tr style=\"text-align: right;\">\n",
       "      <th></th>\n",
       "      <th>date</th>\n",
       "      <th>source</th>\n",
       "      <th>subject</th>\n",
       "      <th>text</th>\n",
       "      <th>title</th>\n",
       "      <th>sentiment</th>\n",
       "      <th>polarity</th>\n",
       "      <th>subjectivity</th>\n",
       "    </tr>\n",
       "  </thead>\n",
       "  <tbody>\n",
       "    <tr>\n",
       "      <th>0</th>\n",
       "      <td>2023-04-05 06:52:09</td>\n",
       "      <td>CoinTelegraph</td>\n",
       "      <td>defi</td>\n",
       "      <td>The compensation process is expected to start ...</td>\n",
       "      <td>Allbridge to first begin repaying stuck bridge...</td>\n",
       "      <td>negative</td>\n",
       "      <td>-0.03</td>\n",
       "      <td>0.20</td>\n",
       "    </tr>\n",
       "    <tr>\n",
       "      <th>1</th>\n",
       "      <td>2023-04-05 06:19:00</td>\n",
       "      <td>CryptoPotato</td>\n",
       "      <td>bitcoin</td>\n",
       "      <td>On-chain analytics revealed a sentiment shift ...</td>\n",
       "      <td>Bitcoin Hodl Patterns Indicate Cycle Shift to ...</td>\n",
       "      <td>neutral</td>\n",
       "      <td>0.00</td>\n",
       "      <td>0.00</td>\n",
       "    </tr>\n",
       "    <tr>\n",
       "      <th>2</th>\n",
       "      <td>2023-04-05 05:09:44</td>\n",
       "      <td>CoinTelegraph</td>\n",
       "      <td>bitcoin</td>\n",
       "      <td>Ether has broken the $1,900 resistance level f...</td>\n",
       "      <td>ETH hits 7-month high ahead of Shanghai and Ca...</td>\n",
       "      <td>negative</td>\n",
       "      <td>-0.04</td>\n",
       "      <td>0.31</td>\n",
       "    </tr>\n",
       "    <tr>\n",
       "      <th>3</th>\n",
       "      <td>2023-04-05 01:09:52</td>\n",
       "      <td>CoinTelegraph</td>\n",
       "      <td>bitcoin</td>\n",
       "      <td>With a new quarterly production record, Marath...</td>\n",
       "      <td>Marathon Digital posts quarterly record of 2,1...</td>\n",
       "      <td>positive</td>\n",
       "      <td>0.07</td>\n",
       "      <td>0.23</td>\n",
       "    </tr>\n",
       "    <tr>\n",
       "      <th>4</th>\n",
       "      <td>2023-04-04 23:49:00</td>\n",
       "      <td>CryptoPotato</td>\n",
       "      <td>altcoin</td>\n",
       "      <td>The stablecoin BTG Dol will supposedly become ...</td>\n",
       "      <td>Brazilian Finance Giant BTG Pactual to Issue a...</td>\n",
       "      <td>positive</td>\n",
       "      <td>0.40</td>\n",
       "      <td>0.40</td>\n",
       "    </tr>\n",
       "  </tbody>\n",
       "</table>\n",
       "</div>"
      ],
      "text/plain": [
       "                 date         source  subject  \\\n",
       "0 2023-04-05 06:52:09  CoinTelegraph     defi   \n",
       "1 2023-04-05 06:19:00   CryptoPotato  bitcoin   \n",
       "2 2023-04-05 05:09:44  CoinTelegraph  bitcoin   \n",
       "3 2023-04-05 01:09:52  CoinTelegraph  bitcoin   \n",
       "4 2023-04-04 23:49:00   CryptoPotato  altcoin   \n",
       "\n",
       "                                                text  \\\n",
       "0  The compensation process is expected to start ...   \n",
       "1  On-chain analytics revealed a sentiment shift ...   \n",
       "2  Ether has broken the $1,900 resistance level f...   \n",
       "3  With a new quarterly production record, Marath...   \n",
       "4  The stablecoin BTG Dol will supposedly become ...   \n",
       "\n",
       "                                               title sentiment  polarity  \\\n",
       "0  Allbridge to first begin repaying stuck bridge...  negative     -0.03   \n",
       "1  Bitcoin Hodl Patterns Indicate Cycle Shift to ...   neutral      0.00   \n",
       "2  ETH hits 7-month high ahead of Shanghai and Ca...  negative     -0.04   \n",
       "3  Marathon Digital posts quarterly record of 2,1...  positive      0.07   \n",
       "4  Brazilian Finance Giant BTG Pactual to Issue a...  positive      0.40   \n",
       "\n",
       "   subjectivity  \n",
       "0          0.20  \n",
       "1          0.00  \n",
       "2          0.31  \n",
       "3          0.23  \n",
       "4          0.40  "
      ]
     },
     "execution_count": 6,
     "metadata": {},
     "output_type": "execute_result"
    }
   ],
   "source": [
    "# Convert sentiment column from string to dict\n",
    "df_tweets[\"sentiment\"] = df_tweets[\"sentiment\"].apply(eval)\n",
    "\n",
    "# Split dictionary in separate columns\n",
    "df_sentiment = pd.json_normalize(df_tweets[\"sentiment\"])\n",
    "df_tweets = pd.concat([df_tweets, df_sentiment], axis=1)\n",
    "\n",
    "# Convert date column to datetime\n",
    "df_tweets['date'] = pd.to_datetime(df_tweets['date'], format='mixed', errors='coerce')\n",
    "\n",
    "df_tweets = df_tweets.drop(columns=[\"sentiment\", \"url\"])\n",
    "df_tweets = df_tweets.rename(columns={\"class\": \"sentiment\"})\n",
    "df_tweets.head()"
   ]
  },
  {
   "cell_type": "markdown",
   "metadata": {},
   "source": [
    "## Model training"
   ]
  },
  {
   "cell_type": "markdown",
   "metadata": {},
   "source": [
    "### Pretrained"
   ]
  },
  {
   "cell_type": "markdown",
   "metadata": {},
   "source": [
    "#### Ollama"
   ]
  },
  {
   "cell_type": "code",
   "execution_count": 7,
   "metadata": {},
   "outputs": [],
   "source": [
    "ollama_model = \"llama3.1:latest\""
   ]
  },
  {
   "cell_type": "code",
   "execution_count": 8,
   "metadata": {},
   "outputs": [],
   "source": [
    "ollama_pipeline = utils.OllamaPipeline(\n",
    "    df=df_tweets,\n",
    "    features=FEATURES,\n",
    "    target=TARGET,\n",
    "    ollama_model=ollama_model,\n",
    "    model_name=ollama_model,\n",
    ")"
   ]
  },
  {
   "cell_type": "code",
   "execution_count": 9,
   "metadata": {},
   "outputs": [
    {
     "name": "stderr",
     "output_type": "stream",
     "text": [
      "Analyzing sentiment with Ollama: 3709it [9:36:50,  9.33s/it]"
     ]
    },
    {
     "name": "stdout",
     "output_type": "stream",
     "text": [
      "Error for index 1747: 'sentiment_analysis'\n",
      "Error for index 11118: 'sentiment_analysis'\n",
      "Error for index 9981: Expecting ',' delimiter: line 166 column 1 (char 1011)\n"
     ]
    },
    {
     "name": "stderr",
     "output_type": "stream",
     "text": [
      "\n"
     ]
    },
    {
     "data": {
      "text/html": [
       "<div>\n",
       "<style scoped>\n",
       "    .dataframe tbody tr th:only-of-type {\n",
       "        vertical-align: middle;\n",
       "    }\n",
       "\n",
       "    .dataframe tbody tr th {\n",
       "        vertical-align: top;\n",
       "    }\n",
       "\n",
       "    .dataframe thead th {\n",
       "        text-align: right;\n",
       "    }\n",
       "</style>\n",
       "<table border=\"1\" class=\"dataframe\">\n",
       "  <thead>\n",
       "    <tr style=\"text-align: right;\">\n",
       "      <th></th>\n",
       "      <th>text</th>\n",
       "      <th>title</th>\n",
       "    </tr>\n",
       "  </thead>\n",
       "  <tbody>\n",
       "    <tr>\n",
       "      <th>2325</th>\n",
       "      <td>DekaBank’s partnership with Metaco is not abou...</td>\n",
       "      <td>German DekaBank plans to launch tokenization p...</td>\n",
       "    </tr>\n",
       "    <tr>\n",
       "      <th>14293</th>\n",
       "      <td>The company appears to have abruptly terminate...</td>\n",
       "      <td>Atari claims its namesake token is now 'unlice...</td>\n",
       "    </tr>\n",
       "    <tr>\n",
       "      <th>6179</th>\n",
       "      <td>Web3 security's not only about money; it’s abo...</td>\n",
       "      <td>Future of Web3 security with Immunefi and Brav...</td>\n",
       "    </tr>\n",
       "    <tr>\n",
       "      <th>16179</th>\n",
       "      <td>The ultimate goal is to accept crypto for paym...</td>\n",
       "      <td>Swiss city of Lugano to pay taxes in crypto vi...</td>\n",
       "    </tr>\n",
       "    <tr>\n",
       "      <th>11257</th>\n",
       "      <td>It adds three new coins, modifies rates for fi...</td>\n",
       "      <td>CryptoCom Removes DOGE, SHIB, and 13 Other Alt...</td>\n",
       "    </tr>\n",
       "    <tr>\n",
       "      <th>...</th>\n",
       "      <td>...</td>\n",
       "      <td>...</td>\n",
       "    </tr>\n",
       "    <tr>\n",
       "      <th>14655</th>\n",
       "      <td>The application awaits approval from the Unite...</td>\n",
       "      <td>Applied Blockchain Inc files for $60M IPO</td>\n",
       "    </tr>\n",
       "    <tr>\n",
       "      <th>3315</th>\n",
       "      <td>Crypto-related stocks, ETFs and tokens have al...</td>\n",
       "      <td>Crypto stocks surge: Coinbase up 69%, MicroStr...</td>\n",
       "    </tr>\n",
       "    <tr>\n",
       "      <th>6730</th>\n",
       "      <td>The list of bankruptcies, shutdowns, and tradi...</td>\n",
       "      <td>Another Bear Market Casuality: Crypto Staking ...</td>\n",
       "    </tr>\n",
       "    <tr>\n",
       "      <th>14520</th>\n",
       "      <td>The company has decided to begin accepting PoS...</td>\n",
       "      <td>No Bitcoin: Mozilla will only accept Proof of ...</td>\n",
       "    </tr>\n",
       "    <tr>\n",
       "      <th>11899</th>\n",
       "      <td>After initially slowing down hiring, Coinbase ...</td>\n",
       "      <td>Crypto exchange Coinbase slashes staff by 18% ...</td>\n",
       "    </tr>\n",
       "  </tbody>\n",
       "</table>\n",
       "<p>3709 rows × 2 columns</p>\n",
       "</div>"
      ],
      "text/plain": [
       "                                                    text  \\\n",
       "2325   DekaBank’s partnership with Metaco is not abou...   \n",
       "14293  The company appears to have abruptly terminate...   \n",
       "6179   Web3 security's not only about money; it’s abo...   \n",
       "16179  The ultimate goal is to accept crypto for paym...   \n",
       "11257  It adds three new coins, modifies rates for fi...   \n",
       "...                                                  ...   \n",
       "14655  The application awaits approval from the Unite...   \n",
       "3315   Crypto-related stocks, ETFs and tokens have al...   \n",
       "6730   The list of bankruptcies, shutdowns, and tradi...   \n",
       "14520  The company has decided to begin accepting PoS...   \n",
       "11899  After initially slowing down hiring, Coinbase ...   \n",
       "\n",
       "                                                   title  \n",
       "2325   German DekaBank plans to launch tokenization p...  \n",
       "14293  Atari claims its namesake token is now 'unlice...  \n",
       "6179   Future of Web3 security with Immunefi and Brav...  \n",
       "16179  Swiss city of Lugano to pay taxes in crypto vi...  \n",
       "11257  CryptoCom Removes DOGE, SHIB, and 13 Other Alt...  \n",
       "...                                                  ...  \n",
       "14655          Applied Blockchain Inc files for $60M IPO  \n",
       "3315   Crypto stocks surge: Coinbase up 69%, MicroStr...  \n",
       "6730   Another Bear Market Casuality: Crypto Staking ...  \n",
       "14520  No Bitcoin: Mozilla will only accept Proof of ...  \n",
       "11899  Crypto exchange Coinbase slashes staff by 18% ...  \n",
       "\n",
       "[3709 rows x 2 columns]"
      ]
     },
     "metadata": {},
     "output_type": "display_data"
    },
    {
     "data": {
      "text/plain": [
       "2325      neutral\n",
       "14293    positive\n",
       "6179      neutral\n",
       "16179     neutral\n",
       "11257    positive\n",
       "           ...   \n",
       "14655    negative\n",
       "3315     positive\n",
       "6730      neutral\n",
       "14520    negative\n",
       "11899    positive\n",
       "Name: sentiment, Length: 3709, dtype: object"
      ]
     },
     "metadata": {},
     "output_type": "display_data"
    },
    {
     "data": {
      "text/plain": [
       "2325      neutral\n",
       "14293     neutral\n",
       "6179      neutral\n",
       "16179    positive\n",
       "11257    negative\n",
       "           ...   \n",
       "14655     neutral\n",
       "3315     positive\n",
       "6730     negative\n",
       "14520     neutral\n",
       "11899    negative\n",
       "Length: 3709, dtype: object"
      ]
     },
     "metadata": {},
     "output_type": "display_data"
    },
    {
     "name": "stdout",
     "output_type": "stream",
     "text": [
      "There were 163/3709 invlaid predictions. Removed them from the evaluation. New test set size: 3546\n",
      "Classification Report for llama3.1:latest:\n",
      "              precision    recall  f1-score   support\n",
      "\n",
      "    positive       0.55      0.32      0.41      1583\n",
      "     neutral       0.39      0.52      0.44      1248\n",
      "    negative       0.28      0.38      0.33       715\n",
      "\n",
      "    accuracy                           0.40      3546\n",
      "   macro avg       0.41      0.41      0.39      3546\n",
      "weighted avg       0.44      0.40      0.40      3546\n",
      "\n",
      "Confusion Matrix for llama3.1:latest:\n",
      "[[0.32154138 0.45293746 0.22552116]\n",
      " [0.21474359 0.51842949 0.26682692]\n",
      " [0.1972028  0.41818182 0.38461538]]\n"
     ]
    },
    {
     "data": {
      "image/png": "[encoded data removed]",
      "text/plain": [
       "<Figure size 640x480 with 2 Axes>"
      ]
     },
     "metadata": {},
     "output_type": "display_data"
    }
   ],
   "source": [
    "ollama_pipeline.evaluate()"
   ]
  }
 ],
 "metadata": {
  "kernelspec": {
   "display_name": ".venv",
   "language": "python",
   "name": "python3"
  },
  "language_info": {
   "codemirror_mode": {
    "name": "ipython",
    "version": 3
   },
   "file_extension": ".py",
   "mimetype": "text/x-python",
   "name": "python",
   "nbconvert_exporter": "python",
   "pygments_lexer": "ipython3",
   "version": "3.12.7"
  }
 },
 "nbformat": 4,
 "nbformat_minor": 2
}
